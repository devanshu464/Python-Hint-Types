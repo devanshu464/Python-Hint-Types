{
  "nbformat": 4,
  "nbformat_minor": 0,
  "metadata": {
    "colab": {
      "provenance": []
    },
    "kernelspec": {
      "name": "python3",
      "display_name": "Python 3"
    },
    "language_info": {
      "name": "python"
    }
  },
  "cells": [
    {
      "cell_type": "markdown",
      "source": [
        "Python provides several built-in type hints that you can use to annotate your code for better readability and to help static type checkers like `mypy` catch errors. Here are some of the basic built-in type hints in Python:\n",
        "\n",
        "1. **Primitive Types**:\n",
        "   - `int`: Represents an integer.\n",
        "   - `float`: Represents a floating-point number.\n",
        "   - `bool`: Represents a boolean value (`True` or `False`).\n",
        "   - `str`: Represents a string.\n",
        "   - `bytes`: Represents a sequence of bytes.\n",
        "\n",
        "2. **Collection Types**:\n",
        "   - `list`: A mutable sequence of items.\n",
        "     - Example: `list[int]` is a list of integers.\n",
        "   - `tuple`: An immutable sequence of items.\n",
        "     - Example: `tuple[int, str]` represents a tuple of an integer and a string.\n",
        "   - `set`: A collection of unique items.\n",
        "     - Example: `set[str]` is a set of strings.\n",
        "   - `dict`: A mapping of keys to values.\n",
        "     - Example: `dict[str, int]` is a dictionary with string keys and integer values.\n",
        "\n",
        "3. **Optional Type**:\n",
        "   - `Optional[X]`: Indicates that a value could either be of type `X` or `None`.\n",
        "     - Example: `Optional[int]` could either be an integer or `None`. It’s equivalent to `Union[int, None]`.\n",
        "\n",
        "4. **Union Type**:\n",
        "   - `Union[X, Y, ...]`: Indicates that a value could be any one of the specified types.\n",
        "     - Example: `Union[int, str]` means a value can be either an integer or a string.\n",
        "\n",
        "5. **Any Type**:\n",
        "   - `Any`: Used when a value can be of any type. This effectively disables type checking for that value.\n",
        "     - Example: `Any` can be used when the type is not known in advance.\n",
        "\n",
        "6. **Callable**:\n",
        "   - `Callable[[X, Y], Z]`: Indicates a function that accepts arguments of type `X` and `Y`, and returns a value of type `Z`.\n",
        "     - Example: `Callable[[int, str], bool]` is a function that takes an `int` and a `str`, and returns a `bool`.\n",
        "\n",
        "7. **Literal**:\n",
        "   - `Literal`: Allows you to specify exact values a variable can take.\n",
        "     - Example: `Literal[1, 2, 3]` restricts a value to either `1`, `2`, or `3`.\n",
        "\n",
        "8. **Type**:\n",
        "   - `Type[X]`: Represents that a value is a type object, typically used for classes.\n",
        "     - Example: `Type[int]` means the value is a type object representing the `int` type.\n",
        "\n",
        "These are some of the most commonly used basic type hints in Python. With the `typing` module, you can express more complex type structures when needed.\n"
      ],
      "metadata": {
        "id": "ZWIfp45IXlWt"
      }
    },
    {
      "cell_type": "markdown",
      "source": [
        "# How can you explicitly specify the type of a variable in Python?\n",
        "\n",
        "In Python, you can explicitly specify the type of a variable using type hints. This does not enforce the type at runtime but provides additional information to the code, making it more readable and allowing static type checkers (e.g., mypy) to catch potential type errors.\n",
        "\n",
        "Here’s how you can specify the type of a variable explicitly:\n",
        "\n",
        "1. Using Type Annotations (Introduced in Python 3.5+)\n",
        "You can specify the type of a variable by placing a colon (:) after the variable name, followed by the type, like this:"
      ],
      "metadata": {
        "id": "thWsr51hYlzH"
      }
    },
    {
      "cell_type": "code",
      "source": [
        "# Variable type annotations\n",
        "x: int = 10           # `x` is expected to be an integer\n",
        "name: str = \"Alice\"    # `name` is expected to be a string\n",
        "price: float = 19.99   # `price` is expected to be a float\n",
        "is_valid: bool = True  # `is_valid` is expected to be a boolean"
      ],
      "metadata": {
        "id": "aLT0OXtAYrlE"
      },
      "execution_count": 1,
      "outputs": []
    },
    {
      "cell_type": "markdown",
      "source": [
        "In the above examples, x is explicitly annotated as int, name as str, etc.\n",
        "\n",
        "2. Specifying Collection Types Using the typing Module\n",
        "For collection types like list, dict, set, and tuple, you can specify the type of the elements they contain using the typing module."
      ],
      "metadata": {
        "id": "eZynmCI7Y3yb"
      }
    },
    {
      "cell_type": "code",
      "source": [
        "from typing import List, Dict, Tuple, Set\n",
        "\n",
        "# List of integers\n",
        "numbers: List[int] = [1, 2, 3]\n",
        "\n",
        "# Dictionary with string keys and integer values\n",
        "person: Dict[str, int] = {\"age\": 30}\n",
        "\n",
        "# Tuple with specific types in positions\n",
        "point: Tuple[int, int] = (10, 20)\n",
        "\n",
        "# Set of strings\n",
        "fruits: Set[str] = {\"apple\", \"banana\", \"cherry\"}"
      ],
      "metadata": {
        "id": "bX_IJ2HcY8ab"
      },
      "execution_count": null,
      "outputs": []
    },
    {
      "cell_type": "markdown",
      "source": [
        "3. Using Optional for Variables That Can Be None\n",
        "If a variable can either be of a specific type or None, you can use Optional from the typing module:"
      ],
      "metadata": {
        "id": "BOZYJIHRZWMq"
      }
    },
    {
      "cell_type": "code",
      "source": [
        "from typing import Optional\n",
        "\n",
        "# This means `age` can be an int or None\n",
        "age: Optional[int] = None\n"
      ],
      "metadata": {
        "id": "38bYxzY-ZXnz"
      },
      "execution_count": null,
      "outputs": []
    },
    {
      "cell_type": "markdown",
      "source": [
        "4. Using Union for Variables That Can Be Multiple Types\n",
        "When a variable can be one of several types, you can use Union from the typing module:"
      ],
      "metadata": {
        "id": "Y-2LzFvYZmyi"
      }
    },
    {
      "cell_type": "code",
      "source": [
        "from typing import Union\n",
        "\n",
        "# `value` can be either an int or a float\n",
        "value: Union[int, float] = 10\n"
      ],
      "metadata": {
        "id": "_cVSsHnCZsqL"
      },
      "execution_count": null,
      "outputs": []
    },
    {
      "cell_type": "markdown",
      "source": [
        "5. Annotating Function Parameters and Return Types\n",
        "In functions, you can also specify types for both parameters and return values:\n",
        "\n"
      ],
      "metadata": {
        "id": "MZC0JUp4ZvWi"
      }
    },
    {
      "cell_type": "code",
      "source": [
        "def greet(name: str) -> str:\n",
        "    return f\"Hello, {name}!\"\n",
        "\n",
        "def add(a: int, b: int) -> int:\n",
        "    return a + b\n"
      ],
      "metadata": {
        "id": "WptczZAzaIa4"
      },
      "execution_count": null,
      "outputs": []
    },
    {
      "cell_type": "markdown",
      "source": [
        "6. Using Any When the Type Is Not Known\n",
        "If you are not sure about the type or if the variable can be of any type, you can use Any:"
      ],
      "metadata": {
        "id": "cBUQ97l8aJgo"
      }
    },
    {
      "cell_type": "code",
      "source": [
        "from typing import Any\n",
        "\n",
        "data: Any = \"This can be anything\"\n"
      ],
      "metadata": {
        "id": "oG8_i06eaMbT"
      },
      "execution_count": null,
      "outputs": []
    },
    {
      "cell_type": "markdown",
      "source": [
        "7. Type Checking (Optional)\n",
        "While Python is dynamically typed (no enforcement of types at runtime), if you want to check for type correctness at development time, you can use tools like mypy to analyze your code for type errors."
      ],
      "metadata": {
        "id": "xO35gccdaO3k"
      }
    },
    {
      "cell_type": "code",
      "source": [
        "mypy script.py\n"
      ],
      "metadata": {
        "id": "PrSzU4wzaRpS"
      },
      "execution_count": null,
      "outputs": []
    },
    {
      "cell_type": "markdown",
      "source": [
        "This will give you warnings if you use types in a way that contradicts your annotations.\n",
        "\n",
        "\n",
        "\n",
        "\n",
        "\n",
        "# **Explain the concept of type hinting in Python.**\n",
        "\n",
        "**ANSWER **\n",
        "\n",
        "Type hinting in Python is a feature that allows developers to explicitly specify the expected data types of variables, function arguments, and return values in their code. Introduced in Python 3.5 via PEP 484, type hints do not enforce type checking at runtime but serve as a guide for developers and static type checkers like mypy to catch potential errors during development.\n",
        "\n",
        "Key Concepts of Type Hinting\n",
        "1. Static Type Checking (Development Time)\n",
        "\n",
        "Type hints provide information about the types of variables and function parameters to help ensure that values of the correct type are used.\n",
        "They do not alter how the code runs, meaning that Python remains dynamically typed at runtime.\n",
        "\n",
        "Tools like mypy or integrated development environments (IDEs) with built-in static analyzers can use type hints to detect type-related bugs or inconsistencies in the code.\n",
        "\n",
        "2. Improved Code Readability\n",
        "\n",
        "Type hints act as documentation by making the expected types clear to developers reading the code.\n",
        "For example, without hints, it may be unclear what type a function expects, especially in complex cases. With type hints, you can easily understand the function's intent:\n"
      ],
      "metadata": {
        "id": "hMhHvWUNaWnJ"
      }
    },
    {
      "cell_type": "code",
      "source": [
        "def add(a: int, b: int) -> int:\n",
        "    return a + b\n"
      ],
      "metadata": {
        "id": "yjS-7-_na_4A"
      },
      "execution_count": null,
      "outputs": []
    },
    {
      "cell_type": "markdown",
      "source": [
        "3. Backwards Compatibility\n",
        "\n",
        "Type hints are fully optional and non-intrusive. If no type hints are provided, Python code works exactly as it always has, using dynamic typing.\n",
        "\n",
        "4. Type Hinting Syntax\n",
        "\n",
        "You specify type hints by appending a colon (:) after variable names and parameter names, followed by the expected type. You can also specify the return type of functions after the -> symbol.\n",
        "\n",
        "* Basic types:"
      ],
      "metadata": {
        "id": "POct431ebKib"
      }
    },
    {
      "cell_type": "code",
      "source": [
        "x: int = 10\n",
        "name: str = \"Alice\"\n"
      ],
      "metadata": {
        "id": "mE92eoEFbo5w"
      },
      "execution_count": null,
      "outputs": []
    },
    {
      "cell_type": "markdown",
      "source": [
        "* Function parameters and return type:"
      ],
      "metadata": {
        "id": "3u-K9WsEbrto"
      }
    },
    {
      "cell_type": "code",
      "source": [
        "def multiply(x: int, y: int) -> int:\n",
        "    return x * y\n"
      ],
      "metadata": {
        "id": "jJNwtxrpb7rw"
      },
      "execution_count": null,
      "outputs": []
    },
    {
      "cell_type": "markdown",
      "source": [
        "5. Complex Types Using typing Module The typing module provides type hints for more complex data structures such as lists, dictionaries, tuples, and unions.\n",
        "\n",
        "* Collections:"
      ],
      "metadata": {
        "id": "R0QzQ4rob8l3"
      }
    },
    {
      "cell_type": "code",
      "source": [
        "from typing import List, Dict\n",
        "\n",
        "numbers: List[int] = [1, 2, 3]\n",
        "person: Dict[str, int] = {\"age\": 30}\n"
      ],
      "metadata": {
        "id": "DvZYwKYlcFmx"
      },
      "execution_count": null,
      "outputs": []
    },
    {
      "cell_type": "markdown",
      "source": [
        "* Union (multiple types):\n",
        "\n"
      ],
      "metadata": {
        "id": "WcloZx4ccJAc"
      }
    },
    {
      "cell_type": "code",
      "source": [
        "from typing import Union\n",
        "\n",
        "value: Union[int, float] = 10  # Can be either int or float\n"
      ],
      "metadata": {
        "id": "VXHCYaeNcM_O"
      },
      "execution_count": null,
      "outputs": []
    },
    {
      "cell_type": "markdown",
      "source": [
        "* Optional (type or None):\n",
        "\n"
      ],
      "metadata": {
        "id": "5pn0LlNBcPGj"
      }
    },
    {
      "cell_type": "code",
      "source": [
        "from typing import Optional\n",
        "\n",
        "age: Optional[int] = None  # Can be an int or None\n"
      ],
      "metadata": {
        "id": "wSP7n0tOcT6J"
      },
      "execution_count": null,
      "outputs": []
    },
    {
      "cell_type": "markdown",
      "source": [
        "* Callable (functions):"
      ],
      "metadata": {
        "id": "lLJOOlQ_cWAW"
      }
    },
    {
      "cell_type": "code",
      "source": [
        "from typing import Callable\n",
        "\n",
        "# Callable that takes two int arguments and returns a float\n",
        "def operation(func: Callable[[int, int], float], a: int, b: int) -> float:\n",
        "    return func(a, b)\n"
      ],
      "metadata": {
        "id": "5mVgS96ucY--"
      },
      "execution_count": null,
      "outputs": []
    },
    {
      "cell_type": "markdown",
      "source": [
        "6. Type Inference Python often infers the type of variables based on the value assigned to them. For example, if you assign a string to a variable, Python knows it’s a string. However, type hints are useful when type inference is insufficient or when specifying more complex types.\n",
        "\n",
        "7. Third-Party Tools and Type Checking Python itself does not enforce type hints, but you can use external tools like mypy, Pyright, or PyCharm's built-in linter to analyze your code and catch type errors before runtime. These tools will validate if the actual types in your code match the provided type hints and raise warnings or errors if inconsistencies are found.\n",
        "\n",
        "Example:"
      ],
      "metadata": {
        "id": "mrsO88CVca4d"
      }
    },
    {
      "cell_type": "code",
      "source": [
        "# Checking type hints with mypy\n",
        "mypy script.py\n"
      ],
      "metadata": {
        "id": "nN6_Rv7ickyZ"
      },
      "execution_count": null,
      "outputs": []
    },
    {
      "cell_type": "markdown",
      "source": [
        "**Benefits of Type Hinting**\n",
        "* Early Error Detection: By providing type hints, errors related to incorrect data types can be caught early in the development process, reducing bugs at runtime.\n",
        "\n",
        "* Better IDE Support: Modern IDEs (e.g., PyCharm, VSCode) offer improved code completion, refactoring, and suggestions when type hints are used, as they can infer more information about your code.\n",
        "\n",
        "* Documentation: Type hints serve as a form of self-documentation for the code, making it easier to understand and maintain.\n",
        "\n",
        "**Example of Type Hinting**\n",
        "\n",
        "Here is an example of using type hints for a function that calculates the area of a rectangle:"
      ],
      "metadata": {
        "id": "9dmKM2yQcnJ9"
      }
    },
    {
      "cell_type": "code",
      "source": [
        "from typing import Union\n",
        "\n",
        "def calculate_area(width: Union[int, float], height: Union[int, float]) -> float:\n",
        "    return width * height\n",
        "\n",
        "# Correct usage\n",
        "area = calculate_area(10, 5.5)  # Area = 55.0\n"
      ],
      "metadata": {
        "id": "3Ste_U5jcxIJ"
      },
      "execution_count": null,
      "outputs": []
    },
    {
      "cell_type": "markdown",
      "source": [
        "In this example, the width and height parameters can be either int or float, and the function is expected to return a float.\n",
        "\n",
        "**Limitations**\n",
        "* Not Enforced at Runtime: Python does not enforce the type hints at runtime, meaning if a wrong type is passed to a function, it will still run unless you manually enforce checks.\n",
        "\n",
        "* Additional Overhead: Type hinting adds some overhead to the development process, especially in large codebases, as it requires extra effort to annotate functions and variables properly.\n",
        "\n",
        "In summary, type hinting in Python is a powerful tool that enhances code readability, improves development tools, and helps catch type-related errors during development without affecting the language's dynamic typing behavior.\n"
      ],
      "metadata": {
        "id": "PyHAHzC6cxyT"
      }
    },
    {
      "cell_type": "markdown",
      "source": [
        "# How is type hinting helpful in large Python codebases?\n",
        "\n",
        "Type hinting is especially helpful in large Python codebases for several reasons, providing significant advantages in terms of maintainability, collaboration, and error detection. Here’s how type hinting benefits large-scale Python projects:\n",
        "\n",
        "**1. Improved Code Readability and Clarity**\n",
        "\n",
        "* Self-documenting code: Type hints serve as built-in documentation, explicitly showing the expected types for variables, function arguments, and return values. This makes it easier for developers to understand the purpose and usage of code, especially in complex systems or when new developers join the project.\n",
        "* Less need for external documentation: In large codebases, having type hints embedded in the code reduces the need for external documentation or comments about what types are expected, making the code easier to read and navigate.\n",
        "\n",
        "Example:"
      ],
      "metadata": {
        "id": "NobiPVaBc-QI"
      }
    },
    {
      "cell_type": "code",
      "source": [
        "def calculate_total(price: float, tax_rate: float) -> float:\n",
        "    return price + (price * tax_rate)\n"
      ],
      "metadata": {
        "id": "xSxWO4PQdGgW"
      },
      "execution_count": null,
      "outputs": []
    },
    {
      "cell_type": "markdown",
      "source": [
        "Even without reading the function's implementation, a developer can immediately understand that both price and tax_rate are float values, and the result will also be a float.\n",
        "\n",
        "**2. Early Detection of Bugs**\n",
        "\n",
        "* Static type checking: Type hinting enables the use of static type checking tools like mypy, Pyright, or PyCharm’s built-in type checker. These tools analyze the code and detect type inconsistencies before runtime, catching potential bugs early during the development phase.\n",
        "* Error reduction in refactoring: In large codebases, refactoring is common, and it’s easy to introduce subtle bugs when changing code. Type hints, combined with static analysis, can quickly identify type-related issues that might arise when modifying the code, making refactoring safer and more predictable.\n",
        "\n",
        "Example:"
      ],
      "metadata": {
        "id": "IwP5bG80dIv7"
      }
    },
    {
      "cell_type": "code",
      "source": [
        "def process_data(data: str) -> int:\n",
        "    # Assume the function processes a string and returns an integer\n",
        "    return len(data)\n",
        "\n",
        "# Without static checking, passing an incorrect type like a list would raise errors only at runtime.\n",
        "result = process_data([1, 2, 3])  # Type hinting + static checking will catch this mistake early.\n"
      ],
      "metadata": {
        "id": "DQ0VmEGhdQdZ"
      },
      "execution_count": null,
      "outputs": []
    },
    {
      "cell_type": "markdown",
      "source": [
        "**3. Enhanced IDE Support and Developer Productivity**\n",
        "* Code completion and suggestions: Modern IDEs like PyCharm, Visual Studio Code, and others can leverage type hints to offer intelligent code completion and suggestions. This feature is particularly useful in large projects with many classes, functions, and modules, as it speeds up development by offering the right methods and attributes based on type annotations.\n",
        "* Improved refactoring tools: Type hints allow IDEs to perform more accurate refactoring operations. For example, when renaming a method or changing a class attribute, IDEs can better track how these changes affect other parts of the codebase based on the type information.\n",
        "\n",
        "**4. Better Collaboration Among Teams**\n",
        "* Consistent code expectations: In large teams, type hints provide a clear contract for how functions, methods, and variables are expected to be used. This helps reduce confusion, as team members can quickly see the types expected by various parts of the system.\n",
        "* Easier onboarding of new developers: When new developers join a project, type hints make it easier to understand how the code is structured, what each function is doing, and what types of inputs and outputs are expected. This accelerates the learning curve, making onboarding smoother in large teams.\n",
        "\n",
        "Example:"
      ],
      "metadata": {
        "id": "NYltl8hBdh6l"
      }
    },
    {
      "cell_type": "code",
      "source": [
        "def add_user(user_data: dict[str, str], user_id: int) -> bool:\n",
        "    # Code to add a user to the system\n",
        "    pass\n"
      ],
      "metadata": {
        "id": "c5hJOvmtdp0e"
      },
      "execution_count": null,
      "outputs": []
    },
    {
      "cell_type": "markdown",
      "source": [
        "Without having to dive into the function body, a new developer can quickly understand that user_data is a dictionary with string keys and values, and user_id is an integer. This provides immediate context, facilitating faster understanding.\n",
        "\n",
        "**5. Enforcing Consistency Across Modules**\n",
        "* Code consistency: Type hints ensure that data types are consistent throughout the project. In large systems with many interconnected modules, this helps ensure that the inputs and outputs across various modules follow the same expected types, reducing runtime errors caused by mismatches.\n",
        "* Reduced coupling and interface clarity: With clear type hints, the boundaries between different modules and components are easier to define. Developers can work on different parts of the project without needing to understand the entire system, as long as the type contract is respected.\n",
        "\n",
        "Example:"
      ],
      "metadata": {
        "id": "m88eB8DFdrxA"
      }
    },
    {
      "cell_type": "code",
      "source": [
        "# In module A\n",
        "def fetch_data(id: int) -> dict[str, Union[str, int]]:\n",
        "    # Returns a dictionary with keys as strings and values either strings or integers\n",
        "    pass\n",
        "\n",
        "# In module B\n",
        "data = fetch_data(10)  # Knowing the return type helps the developer work with `data` correctly.\n"
      ],
      "metadata": {
        "id": "Ch7nWalSd02R"
      },
      "execution_count": null,
      "outputs": []
    },
    {
      "cell_type": "markdown",
      "source": [
        "**6. Support for Complex Data Structures**\n",
        "* In large codebases, dealing with complex data structures like nested dictionaries, tuples, and lists is common. Type hints make it easier to manage and reason about these structures, ensuring that the correct types are passed around.\n",
        "* Collections and Generics: Using type hints for collections (e.g., List, Dict, Tuple) helps make sure that the elements within these collections are of the right type, reducing type-related issues when processing or iterating over data structures.\n",
        "\n",
        "Example:"
      ],
      "metadata": {
        "id": "tYlJ2UcEd5Q1"
      }
    },
    {
      "cell_type": "code",
      "source": [
        "from typing import List, Dict\n",
        "\n",
        "def process_orders(orders: List[Dict[str, Union[str, int]]]) -> None:\n",
        "    # Orders is a list of dictionaries, with string keys and values that are either strings or integers\n",
        "    for order in orders:\n",
        "        process_order(order)  # Each order is guaranteed to be of the correct structure\n"
      ],
      "metadata": {
        "id": "_DPrGHNCd-Nk"
      },
      "execution_count": null,
      "outputs": []
    },
    {
      "cell_type": "markdown",
      "source": [
        "**7. Enabling Gradual Typing in Legacy Codebases**\n",
        "* For large legacy projects that were originally written without type hints, Python allows gradual typing, meaning you can start adding type hints incrementally without refactoring the entire codebase at once.\n",
        "* This flexibility makes it feasible to improve type safety and maintainability over time without a complete rewrite.\n",
        "\n",
        "Example:"
      ],
      "metadata": {
        "id": "vstSR8b-eATE"
      }
    },
    {
      "cell_type": "code",
      "source": [
        "# Partially typed codebase\n",
        "from typing import List\n",
        "\n",
        "def get_usernames() -> List[str]:\n",
        "    pass  # Only some parts of the system are type hinted, but it can grow gradually\n"
      ],
      "metadata": {
        "id": "6SEoDoiheK9B"
      },
      "execution_count": null,
      "outputs": []
    },
    {
      "cell_type": "markdown",
      "source": [
        "**8. Easier Debugging and Testing**\n",
        "* Type-driven tests: Type hints can serve as a guide for writing unit tests, as they clarify what input types the function expects and what output types to assert against.\n",
        "* Fewer runtime errors: Since many type-related issues are caught early (during static analysis), the number of type-related runtime exceptions is reduced, making the system more stable and easier to debug.\n",
        "\n",
        "Conclusion\n",
        "In large Python codebases, type hinting offers several key benefits, including improved code readability, better static error detection, enhanced collaboration among team members, and easier code maintenance. Although it doesn't enforce types at runtime, it creates a safety net that ensures more predictable and reliable code, which is crucial in large-scale projects with multiple contributors and complex structures."
      ],
      "metadata": {
        "id": "9Ry0PqjWeLuy"
      }
    },
    {
      "cell_type": "markdown",
      "source": [
        "# **Write a Python function with type hints to calculate the area of a rectangle.**\n",
        "\n",
        "Here’s a Python function with type hints to calculate the area of a rectangle:"
      ],
      "metadata": {
        "id": "j8nzxhp0eXh5"
      }
    },
    {
      "cell_type": "code",
      "source": [
        "def calculate_rectangle_area(width: float, height: float) -> float:\n",
        "    \"\"\"\n",
        "    Calculate the area of a rectangle.\n",
        "\n",
        "    :param width: The width of the rectangle (float)\n",
        "    :param height: The height of the rectangle (float)\n",
        "    :return: The area of the rectangle (float)\n",
        "    \"\"\"\n",
        "    return width * height\n"
      ],
      "metadata": {
        "id": "aUnhUVEQedUK"
      },
      "execution_count": null,
      "outputs": []
    },
    {
      "cell_type": "markdown",
      "source": [
        "**Explanation:**\n",
        "* The width and height parameters are both expected to be of type float.\n",
        "* The function returns a float, which represents the area of the rectangle.\n",
        "* Type hints make it clear to anyone using the function what types are expected, and tools like mypy can catch potential type errors based on this information.\n",
        "\n",
        "Example Usage:"
      ],
      "metadata": {
        "id": "Vj2TUkYueiGW"
      }
    },
    {
      "cell_type": "code",
      "source": [
        "area = calculate_rectangle_area(5.0, 10.0)\n",
        "print(f\"The area of the rectangle is: {area}\")\n"
      ],
      "metadata": {
        "id": "W0qjktovepGo"
      },
      "execution_count": null,
      "outputs": []
    },
    {
      "cell_type": "markdown",
      "source": [
        "This will output:"
      ],
      "metadata": {
        "id": "V2z7WB3resaJ"
      }
    },
    {
      "cell_type": "code",
      "source": [
        "The area of the rectangle is: 50.0\n"
      ],
      "metadata": {
        "id": "Rv-cTdSRetbJ"
      },
      "execution_count": null,
      "outputs": []
    },
    {
      "cell_type": "markdown",
      "source": [
        "# What is the purpose of using 'None' as a type hint in Python?\n",
        "**bold text**\n",
        "In Python, using None as a type hint indicates that a function or variable either expects or returns the value None. This can serve a few different purposes, depending on the context. Here are the common use cases for using None as a type hint:\n",
        "\n",
        "**1. Function Without a Return Value (Returning None)**\n",
        "\n",
        "When a function does not return any value, its return type can be annotated as None. This indicates that the function is designed to perform some action (such as printing to the console, logging, or modifying data in place) without returning a result.\n",
        "\n",
        "Example:"
      ],
      "metadata": {
        "id": "PD6lpjo4eu47"
      }
    },
    {
      "cell_type": "code",
      "source": [
        "def print_message(message: str) -> None:\n",
        "    \"\"\"\n",
        "    Prints a message to the console and does not return anything.\n",
        "    \"\"\"\n",
        "    print(message)\n"
      ],
      "metadata": {
        "id": "AaIJJWtbe--r"
      },
      "execution_count": null,
      "outputs": []
    },
    {
      "cell_type": "markdown",
      "source": [
        "In this case, the function print_message is not intended to return a value. The type hint -> None makes it explicit that the function has no return value, which can help prevent accidental assumptions that a value is returned.\n",
        "\n",
        "**2. Optional Return Value (Returning None in Some Cases)**\n",
        "\n",
        "If a function can either return a specific value or None, the return type can be annotated using Optional, which is shorthand for Union[Type, None]. This indicates that the return value could be of a specific type or None.\n",
        "\n",
        "Example:"
      ],
      "metadata": {
        "id": "ov-i6FVcfBqL"
      }
    },
    {
      "cell_type": "code",
      "source": [
        "from typing import Optional\n",
        "\n",
        "def find_item(items: list[str], target: str) -> Optional[str]:\n",
        "    \"\"\"\n",
        "    Returns the target string if found in the list, otherwise returns None.\n",
        "    \"\"\"\n",
        "    if target in items:\n",
        "        return target\n",
        "    return None\n"
      ],
      "metadata": {
        "id": "tp_66jAbfHby"
      },
      "execution_count": null,
      "outputs": []
    },
    {
      "cell_type": "markdown",
      "source": [
        "In this example, the return type Optional[str] means that the function may return either a str or None, depending on whether the target is found in the list.\n",
        "\n",
        "**3. Default Parameter Values Set to None**\n",
        "\n",
        "A function can have parameters with default values set to None, and the type hint reflects this. This is useful when a parameter is optional, but if not provided, None will be used as the default. Typically, the type hint would be Optional in such cases.\n",
        "\n",
        "Example:"
      ],
      "metadata": {
        "id": "AWMU7_x-fI_7"
      }
    },
    {
      "cell_type": "code",
      "source": [
        "from typing import Optional\n",
        "\n",
        "def greet(name: Optional[str] = None) -> None:\n",
        "    \"\"\"\n",
        "    Prints a greeting message. If no name is provided, defaults to a generic greeting.\n",
        "    \"\"\"\n",
        "    if name:\n",
        "        print(f\"Hello, {name}!\")\n",
        "    else:\n",
        "        print(\"Hello, there!\")\n"
      ],
      "metadata": {
        "id": "EEH7XxYUfN4W"
      },
      "execution_count": null,
      "outputs": []
    },
    {
      "cell_type": "markdown",
      "source": [
        "Here, the name parameter is optional and may be either a str or None. If the caller does not provide a name, the function defaults to None and prints a generic greeting.\n",
        "\n",
        "**4. Placeholders for Future Implementation**\n",
        "\n",
        "When designing large systems or when using development approaches like Test-Driven Development (TDD), functions might initially be defined with a return type of None as a placeholder. This shows that the function exists, but the implementation is not complete yet. It can be useful to signal that the function should not yet return anything.\n",
        "\n",
        "Example:"
      ],
      "metadata": {
        "id": "U3IcIb7OfR4v"
      }
    },
    {
      "cell_type": "code",
      "source": [
        "def process_data() -> None:\n",
        "    \"\"\"\n",
        "    Placeholder for future implementation.\n",
        "    \"\"\"\n",
        "    pass\n"
      ],
      "metadata": {
        "id": "sSPRjwLtfUNe"
      },
      "execution_count": null,
      "outputs": []
    },
    {
      "cell_type": "markdown",
      "source": [
        "Here, the function is defined, but it doesn't perform any actions or return a value yet.\n",
        "\n",
        "**Summary of None in Type Hints:**\n",
        "\n",
        "* None as a return type (-> None) indicates that the function does not return a value.\n",
        "* Using Optional[Type] indicates that a variable or return value can either be of a specific type (e.g., str) or None.\n",
        "* None as a default parameter value is common in optional parameters, where the parameter can be either of a certain type or None by default.\n",
        "In summary, None in type hints provides clarity about when no value is returned, or when a value can be absent (optional) in Python functions or variables."
      ],
      "metadata": {
        "id": "A_h9UoGdfWTw"
      }
    },
    {
      "cell_type": "markdown",
      "source": [
        "# **Explain the difference between 'Optional' and 'Union' in Python type hints.**\n",
        "\n",
        "\n",
        "In Python type hints, both Optional and Union are used to indicate that a value can be of more than one type, but they serve slightly different purposes and are used in different contexts. Let's break down the differences between the two:\n",
        "\n",
        "**1. Optional**\n",
        "\n",
        "Optional is a special shorthand provided by the typing module that indicates a value can either be of a specified type or None.\n",
        "\n",
        "Definition:"
      ],
      "metadata": {
        "id": "R9no944CfpPy"
      }
    },
    {
      "cell_type": "code",
      "source": [
        "Optional[X] is equivalent to Union[X, None]\n"
      ],
      "metadata": {
        "id": "Ebya9QYHfuXB"
      },
      "execution_count": null,
      "outputs": []
    },
    {
      "cell_type": "markdown",
      "source": [
        "* It simply means that a value can be either of type X or None.\n",
        "Use Case:\n",
        "* Typically, Optional is used when a function argument or return value can either hold a specific type or None. It is commonly used for default parameters that may or may not be provided, or for functions that might return None under certain conditions.\n",
        "\n",
        "Example:"
      ],
      "metadata": {
        "id": "al-ovXJcfwUd"
      }
    },
    {
      "cell_type": "code",
      "source": [
        "from typing import Optional\n",
        "\n",
        "def get_user_by_id(user_id: int) -> Optional[str]:\n",
        "    # If user exists, return the username, otherwise return None\n",
        "    if user_id == 1:\n",
        "        return \"Alice\"\n",
        "    else:\n",
        "        return None\n"
      ],
      "metadata": {
        "id": "zXvBU8Ndf6KK"
      },
      "execution_count": null,
      "outputs": []
    },
    {
      "cell_type": "markdown",
      "source": [
        "In this example, Optional[str] indicates that the function get_user_by_id may return either a str (like \"Alice\") or None (if the user doesn't exist).\n",
        "\n",
        "**2. Union**\n",
        "\n",
        "Union is more general and allows you to specify that a value can be of any combination of multiple types, not just None.\n",
        "\n",
        "Definition:"
      ],
      "metadata": {
        "id": "wUGBveGcf9X8"
      }
    },
    {
      "cell_type": "code",
      "source": [
        "Union[X, Y, Z, ...] means that the value can be of type X, Y, Z, etc.\n"
      ],
      "metadata": {
        "id": "jUWV0fSRf_7S"
      },
      "execution_count": null,
      "outputs": []
    },
    {
      "cell_type": "markdown",
      "source": [
        "* It specifies that a value can be of any type listed within the Union.\n",
        "Use Case:\n",
        "* Union is used when a variable, parameter, or return value can be one of several possible types, not just None. It's more flexible than Optional since it allows mixing different types.\n",
        "\n",
        "Example:"
      ],
      "metadata": {
        "id": "RXbZZSzGgBuI"
      }
    },
    {
      "cell_type": "code",
      "source": [
        "from typing import Union\n",
        "\n",
        "def process_input(data: Union[str, int, float]) -> float:\n",
        "    if isinstance(data, str):\n",
        "        return float(len(data))  # Convert the length of the string to float\n",
        "    return float(data)\n"
      ],
      "metadata": {
        "id": "K3Qb4Bk6gJ4E"
      },
      "execution_count": null,
      "outputs": []
    },
    {
      "cell_type": "markdown",
      "source": [
        "In this example, Union[str, int, float] indicates that the data argument can be either a str, an int, or a float. The function handles each case accordingly.\n",
        "\n",
        "# Key Differences"
      ],
      "metadata": {
        "id": "3Jx6A2DYgKsj"
      }
    },
    {
      "cell_type": "markdown",
      "source": [
        "![Screenshot from 2024-10-06 16-38-33.png](data:image/png;base64,iVBORw0KGgoAAAANSUhEUgAAAukAAAEhCAYAAADClz5PAAAABHNCSVQICAgIfAhkiAAAABl0RVh0U29mdHdhcmUAZ25vbWUtc2NyZWVuc2hvdO8Dvz4AAAAtdEVYdENyZWF0aW9uIFRpbWUAU3VuIDA2IE9jdCAyMDI0IDA0OjM4OjMzIFBNIElTVOpxhUwAACAASURBVHic7N13XJXl//jx12HKEnAggqbgTiVBnBiKAzP3yso0s8w0F+6PM600M8mROFBz5yi3JbgRUNHUHOUCMcOByd4HOL8/+HF/PbIF5Gjv5+Ph4yH3uO73fd3nXOd9rvu6r6NycHDQIIQQQgghhNAZemUdgBBCCCGEEEKbJOlCCCGEEELoGEnShRBCCCGE0DGSpAshhBBCCKFjJEkXQgghhBBCx0iSXoDJkycTEBDAwIEDc6zz9PRk/fr1nDp1ipMnT/LTTz/RpEkTZf2bb77JmjVrCAgIICAggO3bt9OiRYsXGb4QQgghhHgJGZR1ALquV69eGBoa0qNHD7Zs2aIs7927N9OmTdPatnbt2iQkJABZCfzXX3+ttd7R0ZGUlJTSD1oIIYQQQrzUSjRJ37JlC3Xr1mXnzp18++23Wut69uzJjBkzAFiyZAmbN28uyUPnq1y5cnzzzTdUq1aNChUqYGpqSkpKCtHR0dy8eZPAwED8/f1JTU3Nse+uXbvo2rUr+/btU5bp6ekxYsQIAIKDg/n222+JioqiRo0ahIaGAijrL168yFdffcXjx4957bXXCAsLewFnLIQQQgghXmYvpCfd3d2d//3vf0BWIv8iE3QAQ0ND3NzctJaZmZlhZmZGtWrVaN++PZ988glff/01ISEhWtt99913fPfdd1rLXnvtNaytrQFYtmwZERERAFy/fh2AihUrUq1aNQB8fHz4+++/Abhx40bJn5wQQgghhHjllHqS7urqyvz589HX12f//v0sWbKktA+ZL29vb44dO4aBgQE2Nja4ubnRv39/7Ozs+P777xkxYgSXL1/Ot4zy5csr/4+MjMyx3tLSUvn/48ePSy54IYQQQgjxn1CqSbqTkxPe3t4YGRlx/Phxvv76azQaTY7tunTpwjvvvEOtWrVITU3l2rVrrFu3TkmW27dvz4IFCwB46623ePLkibJvnTp12Lp1KwD9+/cnPDw835giIyN59OgRABEREVy8eJH9+/ezZs0arKysmD59OgMGDFC29/HxoVmzZvz00094e3sDWcNdsh09elT5f3JyMu7u7qhUKmXZnj17tI7fsmVLMjIylPr56KOPaNy4MUZGRoSFhbFjxw5+/fVXrX169+6Nm5sb9evXp0KFCgDcu3ePmTNncvPmTQBsbGwYNmwYrVu3xsrKiocPH+Ln58ePP/6IWq1WynJycqJv377UqlULa2trrK2tSUpKIiwsjI0bNxIYGJijzqysrBg8eDAeHh7Y2Ngo2y9ZsoQ///xT2a6g6/h0HQwZMoT69etjYGDA48ePuXnzJl9//TVxcXF5XjshhBBCiP+KUkvSGzRowJIlSzAxMSE4OJjp06cryenTJk+eTP/+/QHQaDSYmJjg5uZGy5YtmTBhAkFBQZw5cwa1Wo2hoSGurq74+fkp+2fPpvLw4cMCE/S83L17Fx8fH6ZNm4ajoyNNmjTh0qVLhdo3OTk51/9nS0lJyfWLiaenJ3PnzkVfXx/IOveGDRsyZ84catSowYoVK5Rtp0yZomyXzdHRkaioKAAcHBxYvXo1VlZWAGRmZvLaa68xbNgwXF1dGTFihFL3zZo14+2339Yqy9LSEmdnZ5o0acKUKVM4fvy4ss7e3h4fHx/s7OyUZUZGRri4uGhdz8JcR4AWLVqwZMkS9PT00Gg0pKSkKM8KJCYm5lnPQgghhBD/JaUyBWOtWrX44YcfMDc3JygoiIkTJ2r15mZzd3enf//+ZGZmMm/ePFq3bk2nTp0ICAhAX1+fyZMno1KpSEpK4uLFiwC0atVKq4zsJP3MmTPFivno0aNKMv36668Xer+uXbvi7u6Ou7s7nTt3zrF+wIABynp3d3cyMjKoXLkyM2bMQF9fn927d+Ph4YGbmxurVq0CYMiQIdjb2+co6/vvv6djx454enry8ccf8++//wLw5ZdfYmVlxbVr1+jRowetWrXCy8uL1NRUnJ2dcyTlAH///Tddu3alTZs2DBgwgJs3b6JSqRg+fLjWdrNnz8bOzo6YmBimT59O586defvtt/Hy8lJ68Qt7HQF69OiBnp4ely5don379ri7u+Ph4cHYsWNz/RInhBBCCPFfVCpJuouLC+XLlyc+Pp7Zs2fnmqAD9O3bF4ADBw6we/du0tPTiYmJYc6cOWg0Guzs7KhXrx6AMgzDzc1NGW6iUqlwdXUF4PTp08WKOS4ujtjYWCBr6EhpevvttzExMeGff/5h/vz5JCQkoFarWbNmDTdv3kRPT4927drl2O/+/fvExsYSHR2tDCFp1KgR9erVQ6PRMHXqVB48eEBmZiaBgYHs2rULAA8PjxxlpaSkEBkZSWpqKmFhYfj6+gJZX7Cye+Tr1KmDs7MzAPPmzcPf35+oqCgeP35MYGCg8qWmKNfR0NAQgLS0NOXOQ0JCQqHvXAghhBBC/BeUynCXuLg4ypcvj4WFBT4+Pnh5eeX6gGV2j7WTkxM+Pj5a69LT0zE0NKRq1apcv36do0ePMm7cOKysrHBycuLSpUvUrl2bChUqoFarOXv2bLHjfnqseWmqX78+AKampixfvlxrXaVKlQCwtbUtUlnp6enMmjVLa13lypULXdbt27eV/1esWJGYmBicnJyArIT6xIkTee5blOt4+PBhPDw8aN68ORs3bmTHjh34+fnJ/PFCCCGEEE8plSTdz8+PW7duMWnSJOrWrcuaNWv45JNPciTq2bOk1KxZk5o1a+ZalpGREZD1wOfZs2dp1aoVnp6eXLp0iebNmwMQEhJS7PHM1tbWSjzZD5aWluye6goVKigPgj6rXLlyRSrL0NCQZs2aPXdZT4+nz67z7NgeP36c67j6bEW5jocPH8bY2JiRI0dSt25dZsyYwahRo1i8eDEHDx4sME4hhBBCiP+CUntwdPfu3Tx69IjvvvuOqlWr4uPjw7Bhw4iOjla2iY+Px9LSksWLF2v9mmdeDhw4QKtWrejYsSPe3t64u7sD5NvLW1hdu3ZV/l/QFIzFFR8fD2QN4fHy8iqRshITE2nfvj2ZmZnFji9b9kwrlpaWqFSqPBP157mOfn5+dOnShYEDB+Lo6MgXX3xBdHQ0wcHBJRa/EEIIIcTLqlTHdwQHBzNp0iQyMjKoUaMG3377LQYG//e9IHv6vs6dO+eYvSQ3x48fJzY2Fmtra3r06MEbb7xBRkZGsZN0Jycn5YHJ69evc+3atWKVV5Ds8ps2bVrs8e/ZdWhmZsabb75Z7NhyK9vc3JymTZsWuF1hryOAWq1m3759fPDBB8qPQHXo0KGYEQshhBBCvBpKfRB2UFCQMsd5kyZNGD9+vLJu7969QNZ0jd9++y2NGjXCysoKe3t73nzzTRo1aqRVllqtVh6GHDduHPr6+pw5c4aYmJhCx2Nra4u9vT0ODg64ubnxv//9j5UrV1KuXDkSExP54osvinnGBfPz8yM1NRUTExOWLVuGm5sblSpVokqVKjg7O+f6oGderl69SmhoKAAzZ86kd+/e2NvbU6FCBerXr0+fPn2eO86ny/7qq6/o2LEjFStWpHLlyrRo0YLq1asDRbuObm5uvPHGG1hYWABgYWGhPEyanp7+3LEKIYQQQrxKSv0XRyFr6Eu9evXo27cv/fv3JygoiKCgII4ePcrevXvp2bOnMkXh07Zs2cLVq1e1lm3fvp0PPvgAExMTAPbt21ekWMaNG8e4ceNyLA8PD2fu3LlKUlqaHj58yIIFC5g+fTqOjo4sXrxYa/3169e15irPj0ajYdasWSxfvhwrKyumTZuWYxs/P7/nGrOv0WiYPXs2P/zwAxUrVmT+/Pla65cuXcqmTZuKdB2HDh2qPJCaPfc9QEZGhoxJF0IIIYT4/15Ikg5Zc3w7Ozvj6OjItGnTGDBgAAkJCXz11VecP3+eXr16UatWLczMzPj333+5d+9ermPDnzx5gp+fH926dSMmJoaAgIACj61WqwkKCqJmzZpUqFABIyMjkpOTiYqK4vr165w6dYqjR4/mOVVkadi/fz93797lvffew8nJCWtra+Li4rh//77ywz+FdfPmTQYPHszAgQNxc3OjcuXKpKam8ujRI65cuVLoISi5uXHjBh9++CGDBw+mZcuW2NjYkJiYyP3793nw4IGyXWGv4/nz5zE1NcXe3h4jIyNiYmK4evUqGzZsKPVnAYQQQgghXhYqBweHvKft0FGLFi3C3d2dTZs2sXTp0rIORwghhBBCiBL1wnrSiyN7dhG1Wk2/fv1wd3cnOTm5UDOJCCGEEEII8bJ5KZL0rl275piqcMmSJTx58qSMIhJCCCGEEKL0vBRJuoGBATExMZiZmXHv3j1++ukn9uzZU9ZhCSGEEEIIUSpeyjHpQgghhBBCvMpKfZ50IYQQQgghRNFIki6EEEIIIYSOkSRdCCGEEEIIHSNJuhBCCCGEEDpGknQhhBBCCCF0jCTpQgghhBBC6BhJ0oUQQgghhNAxkqQLIYQQQgihYyRJF0IIIYQQQsdIki6EEEIIIYSOkSRdCCGEEEIIHSNJuhBCCCGEEDrGoDQKtbW1pUKFCpiYmKBSqUrjEEIIIYQQQugEjUZDcnIyUVFRPHz4sETKLNEk3djYmFq1agGQkJBAVFQUGo2mJA8hSlD16tW5d+9eWYchhBDi/5N2WYiXk0qlwtDQkEqVKlGhQgVCQ0NJTU0tVpklOtylVq1apKWl8eTJE1JTUyVBF0IIIYQQrzyNRkNaWhqPHz8mIyND6bQujhJL0m1tbQGIj48vqSKFEEIIIYR4qcTExKCnp6fkxs+rxJL0ChUqkJCQUFLFCSGEEEII8VKKj4+nQoUKxSqjxJJ0ExMT0tLSSqo4IYQQQgghXkpqtRoTE5NilVFiSbpKpZIx6EIIIYQQ4j8vIyOj2DMcyjzpQgghhBBC6BhJ0oUQQgghhNAxpfJjRuLVpqenh6GhIfr6+mUdSpnIyMhArVaTmZlZ1qEIIQTw8rTL0n4KUXjSk54HAwMD6tWrR5UqVco6FJ2ip6dHuXLldP6DoDTp6+tTrlw59PTk7SOEKHsvU7ss7acQhacz75KZM2dy4MABWrZsWdahAFCvXj0WLVpE48aNyzoUnWJoaFjWIegMqQshhC54GduilzFmIV40nUjSbW1tadasGWlpafTu3buswxH5yKunplu3bqxevZrNmzfj5eWFqalpocts3bo1vXr1ynN9/fr12bRpU5FjfV5t27bF19eXrVu30qlTpzy3exl6rYQQr77c2qJOnToxc+ZMrWUrV66kfv36hS63NNteaT+FKJhOjEnv3r078fHx/PTTT3z22Wc4OjoSFhamrG/QoAGfffYZNWrUIDExkRMnTuDr60vFihWZMGECNWrUwNzcnNjYWE6ePMmmTZuUOdsNDAwYNGgQHTt2xNjYmMuXL+Pj48O///4LZDUU7733Hh07dsTS0pL79+8zZ84c5djjxo1j3LhxAPTu3Ru1Wv0Ca+bl4OLiQr9+/fjmm294+PAhY8eOZejQofzwww+F2r9atWr5zrF/9+5dvvjiixKKtmAnT57k5MmTjB8//oUdUwghdM2LbnuFENrKPEk3MjKiU6dO/Prrrxw+fJjBgwfTpUsXli9frmwzZcoUMjMz2bp1K3p6esTExABQvnx5nJycuHjxIleuXKFWrVr07t2bqlWr8tVXXwEwYsQIOnbsiL+/P4mJiXTt2pVp06YpCdjw4cN5++23+f3337l58yY2NjY8efKEypUrA3D8+HFu3LgBZD3wInJq164dJ06c4Pr16wBs27aN2bNns3r1aipVqsSsWbM4fPgwTk5OmJubs23bNs6dOwfA4MGD8fT0JDMzk65duwLw+eefk5aWhoGBAStWrEClUmFsbMygQYO0jtukSRPef/99jI2NSUhIYN26dYSGhgJZX64iIiKoVasWFStWJCYmhkWLFpGSkoJKpWLQoEG0aNECPT09Ll++zKpVq+RBJiHEf8bq1avZsWMHrVq1onLlypw/f56NGzcClFrbK4QomjJP0tu0aYOpqSl+fn6kpqZy/PhxPDw88PX1JS0tDZVKhbW1NRcvXmTnzp25/mDS2bNnOXDgAAATJ06kXbt2vPbaa8TFxdGxY0f279/Phg0bAEhISGDIkCHY2tqSlJRE586dOXfunFbv+dP++OMPjhw5UnoV8AqoXr06Fy9eVP4ODw/HwMAAW1tb0tLSsLa25smTJ8yePZvatWszdepULl68SHp6Ohs3bsTU1JSHDx+yZ88erXLT09MZNmwYNjY2LFq0SGtd+fLlGTduHHPmzOHOnTu0aNGCCRMmMGbMGNLT08nMzKRZs2bMnDmTtLQ05syZg5ubG0ePHsXZ2RlXV1e8vLwAWLBgAS1btiQ4OLj0K0sIIXRAZmYmtWrV4ssvv8TMzIwVK1bg7+/Pw4cPS63tFUIUTZmPSff09CQsLIzMzEyqVKnC5cuXMTU1pU2bNgBoNBr27t2Lq6sry5cvp3Pnzvk+FX7hwgUAHB0dqVGjBvr6+vTq1Yvdu3eze/duhgwZAkDFihVxdHREX1+fs2fPlvp5vsqMjY1JTk5W/k5NTSUzMxMjIyMg69dosxPg27dvA2BnZ1esYzZu3Ji///6bO3fuAFlf1IyMjKhevbqyTUhICKmpqWg0GsLDw7GxsQHg4sWLTJkyhbS0NNLS0rh9+7bM4iOE+M8JCAgAIDExkcjISKWNzE9x2l4hRNGUaU+6ra0tjRo1AmDt2rVa6zp16sSxY8cAWLduHVeuXGHAgAGMHj2a5s2b8+WXX+ZaZnayqFKplGR+165dBAUFaW139+5dGjRoAOT+AEtuPfYid8nJyVoPimZPrxUXF4eenp6SDGdLSUkp0oOlubGysiI2NlZrWXx8PJaWllpxZcvMzFReDxYWFnzwwQdUr15d+XL48OHDYsUjhBC6RKPR5PhJcpVKpfXZllcbmZ/itL1CiKIp0yS9bdu2ACxevJiEhARluYeHB61bt6ZSpUrKA57nzp3j3LlzjBs3jg4dOmBubp5rmdlTJv79999ERUWh0WhwdHRk3bp1ObYNDw9Ho9Hg5OTEwYMHtdYlJSUBUKFCheKf6Cvu3r17ODg4KH/XrFmT5ORkoqKiqFSpEoaGhhgYGJCeng6AmZmZ1vV+HtHR0VofCpCVfGc/r5Cfd999FxMTE2bMmEFGRobyYLAQQrwqEhIStD4n9fT0sLCwIDo6uljlFqftFUIUTZkm6e3atePu3bs5xnynpaXh5uaGu7s7e/fuZebMmdy6dYukpCQaNGhAamqqVs9snz59qFKlCpaWlnh4eHD9+nXCwsLQaDScOHECDw8PFi5cyOXLl7G0tCQmJobNmzcTHR3NyZMnadeuHV988QW3bt2icuXK/PLLL/zzzz8kJSXRq1cvypUrh6WlJVu3buXJkycvupp03okTJ/Dy8uLUqVM8fPiQ/v37c/z4cSUph6xrfeTIEZydnUlPT9fquU5OTua1114DwNzcnPT09AIfMrp69SqffvopNWvWJDw8nNatW5OUlMS9e/cKjNfc3JywsDAyMjKwt7enXr16PH78OMd2mZmZGBsbF7YahBBCZ9y+fRt7e3vq16/P7du38fT0JCoqSun4el7FaXuFEEVTZkl6zZo1qV69Or/88kuOdZcvXyYpKQkPDw+OHDmCubk5ffv2RV9fn3v37rFgwQKtJD0+Pp527dpRrlw5zpw5ww8//KDc0luyZAnR0dG4u7vTt29foqOjtR5gWbx4MdHR0bRt25YmTZoQGRnJb7/9Rnp6OosXL2bo0KH06dOHhw8fYm5uLkl6Li5dusTOnTuZOHEipqamnD9/nm3btinrExMTsba2ZvHixcqsAU8n8MePH2f8+PFs3ryZuLg4li1bxl9//cXHH39My5YtUalUGBkZ4evrC2Q96Hn79m2+//57Pv/8c4yMjIiNjWXRokWFmoHn4MGDjBw5kqZNm/LPP/+wadMmPvnkE27evKnMOgNw5coVPvzwQ3r27Mn58+dZtWpVCdaaEEKUnn///RdfX19GjRqFlZUV//zzD0uXLi3ULFal1fYKIYpG5eDgUCKDr11dXV/4N2kHBweWLVvGypUrldldROFVr169yNesqGPJbW1tmT9/Ph999FGR9ntZZA+LEkKIkvAi2mVdIe2neNVVr16d8+fPP/f+8jSHKHXPPrwkhBBCCCHyJ0m6EEIIIYQQOqbMf8yoOO7cuUO3bt3KOgyRj4cPHypz0wshhBBCiMKRnnRRJPJw0P+RuhBC6IKXsS16GWMW4kWTJF0UiVqtLusQdIbUhRBCF7yMbdHLGLMQL5ok6aJIMjMzSUlJ+U/3gmRkZJCSklKoqcyEEKK0vUztsrSfQhTeSz0mXZSNzMxMUlNTyzoMIYQQ/5+0y0K8eqQnXQghhBBCCB0jSboQQgghhBA6RpJ0IYQQQgghdIwk6UIIIYQQQuiYEn1wtHr16iVZnHgB5JoJIYRukXZZCAElmKQ/efKEO3fulFRx4gVwcHCQayaEEDpE2mUhXh0ODg7F2l+GuwghhBBCCKFjJEkXQgghhBBCx0iSLoQQQgghhI6RJF0IIYQQQggdI0m6EEIIIYQQOkaSdCGEEEIIIXSMJOlCCCGEEELomBL9MSMhSpqenh4zZszgq6++IjMz87nL8fT0RK1Wc/z48RKMrmyYm5szb948xowZU9ahPJdPP/0UPz8/7t69+0KO5+bmxtixY7G3t+f8+fOMHTv2hRy3uKpXr87KlSsZOHAgMTExAHz44Yf07duX8uXL4+vrS0BAAB4eHmzcuLGMo32xjIyMsLa2xsTEBJVKVWZxaDQakpOTiY6OJi0trcziKAuDBg3izJkz3Lp167nLqFu3Lm3atGHdunUlGFnZmT59Otu3b+f27dtlHUqR1alTh9atW7Nhw4YXcrxq1aoxc+ZMGjRoQEJCAn379iU5OfmFHPtlIj3pQqepVCq6d+9e7A/iJk2a8Nprr5VQVGXL2NgYV1fXsg7juXXo0IHy5cu/kGOZm5szd+5cFi9eTNu2bfniiy9eyHFLQnR0NIcOHSIxMREAFxcX+vXrx+jRo+nYsSP79u3DwcGBLl26FKlcIyMjPD09SyPkF8LIyAg7OztMTU3LNEGHrPbJ1NQUOzs7jIyMyjSWF61t27ZYW1sXq4zq1avTpEmTEoqo7Dk7O2NiYlLWYTyX1157jaZNm76w482cOZPz58/TsWNHBg0aJAl6Hso0SXdxcWH37t2cOnWKM2fOcPjwYRYvXvxCXyiiaCwsLDh37lyuH0jBwcHY2dmVQVRC5K5u3bpEREQQHBxMeno60dHRZR1SoSUkJLBs2TLUajUArq6uHDlyhLt375Kenk58fDwBAQG89957RSq3UqVKTJo0qTRCfiGsra3LPDl/lkqlKnbCWlxbtmyhdevWOZYvXbqU7t27l0FEQuROX1+fN954g82bN5OWlsaTJ0/KOiSdVaZJurW1NdWqVePs2bNs3ryZkJAQmjdvzvLly3F2di7L0IQQrwArKytlqMjLztLS8pU5l+LIrady4MCBbNiwQVlnb2/P8uXLyzwuIUROFhYWZGZmSu95IejEcJejR4/yww8/MH36dIYPH46+vj49evQAYNWqVezZs0fZtk2bNpw7d4527doB0L17d9avX8+RI0cIDg7Gy8sLgK+++or9+/cTHBzM0aNHWbBgAVWrVtU67ttvv83OnTsJCgpi06ZNtGzZUlmnr6/PxIkTOXz4MIGBgfz88884Ojoq67t3786uXbsICgpi48aN8qXiGc7Ozvz888+cOnWKvXv3atVPjx492LNnD6dOnWLZsmXY2toq6wwNDZk8eTKHDx/m8OHDzJkzJ9fyraysCA4OxtjYWFk2ceJEPvvsM+XvihUrcvToUaXXrVevXvj7+xMYGIivr2+O4S/5xTV+/Hj27NnD6dOnOX78OF9++WWeH8r16tVj3759BAcHc+DAAXr27JljGxsbG4KCgjA0NNRaduTIEVQqFfr6+mzbto2AgACOHTvGhAkT0NfXz/V4X3/9Nb169dJaFhwcjIWFRaHO7VndunVj165dBAcHs3v3bqpXrw5k3Z48duwYp06dYvHixVo9h0WpH4DBgwdz4MABAgIC+O6776hYsaLW+qLE27VrV3bt2kVgYCCrVq2iVq1ayjqVSkXz5s0JCAggICCA8ePH59g/+3URHBzMli1baNy4ca7Hyes13aBBA9avX8+xY8eUtsTNzU1rXycnJzZs2EBQUBBbt27NMVwptzrPfo0/fS7Dhw9XzqV9+/Y0adKELVu2KNvo6+szevRo/P39OXXqFGvWrMm119nKykop54cffqBz586sWLFCa5sPPviAKVOmADBp0iTlNX348GH+97//YWpqqrV9Ya/Z0zGeOHGCuXPnYm5urqzv1KkTW7Zs4eTJk5w4cYLmzZtr7Z9XL7pKpcLd3T3XdS+CrvXu58bGxoYVK1Zw6tQp/Pz8GDhwoLKuoNdov3792LdvHwEBAfj4+FC5cuVcj/HTTz/RrFkz5W8PDw98fX21tvnll1+oW7cukPX+2bNnD8HBwezcuZM2bdpobZtfXN27d2fbtm0EBgYSFBSUa7uerbBt6owZMxg2bJjWsunTp/Puu+8C+beDT+vbty9ffvml1rKlS5cquUtB5/asxo0bs3btWoKCgjh06BAdO3YE8m+/ilI/kPXldvXq1QQEBLBnz54cd2CKEm/Dhg1Zu3YtgYGBbN++HQ8PD631hoaGShu0adOmPMv5r9OJJP1pd+7cAcDMzKxQ27dt25a6deuyZ88eNm7cyB9//AFkPSymVqtZs2YNhw4dok2bNqxevVop19PTkzlz5hAfH6/0wCxevJiGDRsCWR+aAwYM4PTp0/j4+PD777/z+PFjAN566y1mzZrF33//zfr167GwsGDx4sVUqFCh0ZtOygAAIABJREFUpKvjpaSnp4e3tzfffvstb775JsOGDSM0NBTIGo/84YcfMmbMGN5++21CQ0OZO3eusu/EiRNxcHBg2LBhDBgwgHPnzuV6jJiYGP755x8aNGigLGvSpIlWA+Xk5MQff/yBRqMBICQkhP79++Pp6cm1a9eYPXu2sm1BcbVo0YLFixfj7u7OgAEDqFy5MkOHDs01tr///puPPvoINzc3pk6dyoQJE3J8QYyMjOTRo0fK6y07/gsXLqDRaMjIyGDChAm0bduW/v3706JFCzp16lRg3eemoHN7moeHB59//jnffPMNHTt2ZMKECTx8+BAAX19fPD096dSpEwkJCYwcOfK56gcgIiKCTz/9lP79+xMdHY23t7eS5BQl3nbt2jFy5EjmzJlD586dOXr0KD4+PlhZWSnbhISE4O7ujru7O97e3jnKCAgIoGfPnrz55pvs3bs312Pl95q2s7NDrVbTo0cPPDw8WLt2LV9++SUuLi7K+oULF7Jq1Srat2/Pxo0bmT9/vjIuP786f9aqVauUczl27FiO9V5eXjRp0oTPPvuMzp07M2/ePOX1/7SYmBilnFGjRhESEkLDhg21vjQ2bNiQS5cuAVlDbRYuXEjbtm0ZNGgQlpaWfPfdd8q2RblmY8eOpWHDhnz00Uf07t2b9PR0vv32W2W9s7Mz586dw9PTkx49eihtekHOnz+f51j7KlWqMHPmTJYuXYq3tzdt27ZV1o0bN47+/fszdepUFi5cyPTp0ylXrpyyvlGjRnz77bcsWbKEuXPnYm9vX6h4dNHUqVO5ePEi7dq1o1evXsprqKDXqKenJ0OGDGH27Nl069aNTZs25TkG/48//sDJyUn5u0mTJjRo0EBJiC0tLbGyslIernz48CHDhw+nbdu2rF69mnnz5inHLSiuBg0acPr0aTp16kSnTp1ytOtPK2ybeu7cOeW9m83Z2Znz588D+beDRVHQuT3N1taWJUuWcPDgQd5++20GDx7MxYsXgfzbr6LUD2Qlzr6+vnTr1o0FCxYwevRo3nzzzSLHW6VKFZYsWcLu3bvp3LkzixYtYtq0aVqddWq1WmmDBg0a9Fx1+F+gM0m6vr4+VatWZfTo0QDcuHGj0PsmJibyww8/sHLlSq0Prlu3brFu3ToWLlzIwoULsbW1VR6yGjp0KJGRkYwaNYrVq1czZswYMjMzGTx4MIDSS7B9+3a2bt3K/PnziY+PB2DIkCH89ddfTJkyhQ0bNjB79mxMTU3LtBdHl+jp6WFsbMyjR4+ArIQ0Li4OyLot7e3tzd9//018fDw+Pj40atQIKysrTE1N6datG3PmzCE8PJyoqCgOHDiQ53EuXLigPL9gYWGBiYkJtWrVUj4MXFxclIYV4P79+8TGxpKUlMSqVato2LCh8qUtv7iyPXnyBLVaTWRkJBs3btS68/K05ORknjx5gkaj4erVq1y7dk3ry0S24OBgrR6nli1bavWcRkREoNFoePLkCf7+/nn28BakMOeW7YMPPsDHx4eQkBCSkpIICwtTxkQ/fPiQ9PR0UlJS+Pnnn3PEU9j6gay7Z/fv3+fRo0csWLAAW1tb5YO9KPEOGjSI5cuX88cff5CYmMiOHTu4cuUKXbt2LXT9REVFkZycTEZGBr/88gtVqlTJcaz8XtOQdc0TEhJIS0vjxIkT/Pjjj0pb0qdPHw4cOEBwcDCpqakcOnSI8PBwpYc4vzovChMTE3r37s2sWbMICwtTyiqM6Oho7t27p5WcNGrUSCtBjomJQa1W8/DhQ2bPnk2dOnWUL5mFvWampqb07duXL774goiICKKjo5k/fz61a9emfv36WvGkpqYSFxdHampqoc7hn3/+ITk5mddffz3HurFjx/L7778zZswYvvnmG4YMGaIk25mZmTRr1ozvv/+eyZMnY2xsrNwJsbCwYMKECaxbt46xY8dy6NAh5W7ty8jU1JR///2XjIwMkpOTefDgAVDwa/Tdd99l+fLlXLx4kbi4OE6fPk1ERESux/j999+1nitzcXHh3r17Shvo4uLCpUuXlNm6oqOjefToEWq1msOHDxMaGsobb7xRqLgg63WZnJyca7v+rMK0qWfPnqVhw4bKXVpbW1tMTEyUL+UFtYOFVZhze3rbgIAAdu3aRWxsLJGRkco47oLar6LUT3h4OOfOnVOu8dq1a5U7CEWJt2/fvpw8eZIDBw6QmJhISEgIP/74oyTjz0EnpmCcO3eu1re/S5cusW3bthI9xunTp4GsoQgGBgY4Ojpy9OhRkpKSgKwE7s6dO8oHxW+//Ua/fv1YvXo1/v7+rF+/nrt376Kvr4+joyMqlYrAwECtY+R1+++/Jj09HW9vb3x9fdm1axfbtm1TxtLWrl2bL774Qms6RbVarUynFhsbm2cv4rNOnz7Nu+++y9q1a3F1dSUkJISqVasqyUWzZs2YNm1arvsmJycTFxeHtbU1iYmJ+caV2zjgBw8e5HnnpE6dOowYMQJHR0cMDAwwNTXVGpaT7eTJk4wdOxZfX19UKhUtWrRg2bJlQFZv05gxY2jcuLEybCUoKKhQ9fKsopxbnTp1uHz5co4y9PT0GDp0KG3btqVSpUqkpaXl2kObLb/6eVZ6ejp//fUXtWvX5o8//ihyvM/2tF68eJF69eoV6tgA7du357333lN6xPX09HL0Eub3ms7N+fPnlaEEtWvX5o033qBbt27KekNDQ+W65lXnRVWzZk3i4+PzTJ4KcuzYMdzd3Tl79iy2trZkZGTk+V5MTU3l2rVr1KtXj2vXrhX6mtWoUYPo6GitctVqtVLW9evXnyt2yBpu4ufnR+fOndmxY4ey3NraGkdHR2bNmgVkfcG6cuUKzs7OSl2FhIQoXwbCw8OxsbEBsoYYREREKHEFBwczdOhQqlatqiS4LxMfHx++/fZbGjduzKZNm5QvcYV5jV69erVQxwgJCWHmzJkYGRlhamqKoaEhv/76K82bN+fq1au4uroqn8e5efDggTL8raC4nvVsu/60wrapMTEx3LhxgxYtWhAQEICbmxsnT55Eo9EUuR3MT1HOrW7dugQEBORaTmHar2z51U9url69qtwRLWq8z97pu3DhgtbwKlE4OpGknzx5khs3bhAfH89ff/2l9aGbkZGBnl7xO/yzH1B4etzgs2MInz5OREQE7733HoMGDaJPnz54enoyYsQI/vrrL1QqFefPn8fHx0dr/8Imly+z7A+y8uXL8++//yrLy5Urh6GhISkpKQD8/PPPBAcH895777Fz504mTJjA5cuXUalUjBgxItd5ZBs0aFCkBi8kJIQvv/wSc3NzWrRowenTp7G3t6dly5Y8ePAAU1PTfHsS1Wo1BgZZb4H84ipo36epVCq8vb3ZtGkTkydPRqPRsHTp0lzLuHDhAlWqVMHW1hZbW1vu3bunzD6SPXb6448/Jj4+nmHDhlGlSpVcy8nMzMxzvHpRzy17PPyzunXrRrt27ZgyZQoRERG4uLgoSU9u8qqf/GQneEW9FsVRrVo1ZsyYwcSJE7l48SLlypXj0KFDuW6b12s6NyqVSqt9WblyJdu3b89z2/yuX2EVtpy83mOHDh1i7dq1eHt74+Likm8ilX287HMs7DUr7XHbp0+f5oMPPtDqSbS0tCQpKYn09HRlWVxcHJaWlsrfTz/AlpmZqXwWlC9fnpo1a2o9hKqnp4eVlZXOJelpaWlaY/uzWVpaKu325cuX6dOnD3369GHFihWsXbtW+UKT32tUo9EU+ncqYmNjuXXrFs2aNcPMzIyzZ89y5swZJk2axLp162jdujVbt27Nc/+MjAyt13F+ceUmr7anKG3qsWPHaNu2LQEBAXTo0IE1a9YARWsHnz2P3BT23PJ6bxel/cpWlLY5MzNT67oXJV5RMnRiuMvRo0fx9fVl27ZtOXrFoqKiqFy5co6HlIoq+/bbnTt3SE9PJywsDCcnJ+W2j729PTVq1ODmzZvKPtHR0SxdupT3338fIyMjOnbsiFqtJjw8nNq1a3P37l2uXLmi/Mses/4qS0tL48GDBzlu8TVp0oTY2FitXrP79++zaNEi1q1bx8cffwxAaGio1hCPp4WHh2NpaUm1atUKFUtycjK///47bm5uNG/enLNnz3Ly5Enc3d158803i/TDRfnFVRQWFhZUqVKFX375hfT0dOW2cm4yMjLw8/PD09OTzp07azWuderUYf/+/coQq6d7PZ5NsqKionKMeX9aUc4tLCxMa9jB0/EEBAQoPY8JCQmFKq8wjIyMaNiwofLeK0q8t27d0hr/ClnjRws7XK5OnTrcvn1beRYgOTk532Qkt9d0bho2bKjcHg8NDc33Aau86ryo/v77b+X1l5/U1FStMdfZIiIiiIiIoEWLFri5ueWbpOvr61OvXj2tcyzMNQsPD8fa2jrHw+INGzYs0hDHvKSnp3Pq1CllHC1k9YyamppqJSbly5cv1Ew5MTEx3L59m88//1z5N3ToUP76669ix1rSwsPDc7wXLC0tcXBwIDw8XFmWlJTE5s2bGTVqFKNGjQIKfo3evHmzSL/NkJ3kuru7ExAQwM2bN7GxsaFJkyYkJiYW+m5PQXEVRX5t6rMOHTqEu7s7dnZ22NnZKeO/C2oHn26bC9MuF/bcQkND82yXi9J+FVXTpk2V92VR4r1582aO16KLi4tWfiUKRyeS9PycOnUKAwMDVqxYwYgRI3LMYpGfVq1aMW3aNLy8vJg1axYJCQn89ttvAGzYsIHKlSvj4+PDyJEjWbZsGfr6+mzevBmA3r17M23aND744ANlbGn2G3Lz5s1YWVmxceNGxo4di5eXl9aDT6+6X375hQkTJtC6dWsqVKhAixYtmDp1Knv27CEzMxOVSoWzszOGhoaYmJhQo0YNYmNjgawx/kOHDsXd3R0zMzMqVapE7dq1gayke+fOncyfP586depgbGxcYMLh5+fH8OHDuX37NikpKURERKCnp8f777+Pv79/oc8pv7iKIiEhgejoaLp164a+vj56enr59lrs37+fXr160bZtW44cOaIsv3v3Lp07d1ZmSHn6gb7k5GT09fWVMbXBwcF0796dBg0aYGRklGPYVVHObdu2bXz++ee4urpiYmJC9erVsba25u7du7z55ptK2bkleUVRsWJFjI2NsbOzY+7cudy6dYtr164VOd7sZKNx48bKeGcnJycOHjxYqDju3r1L3bp1lfGyhoaGufYC5feahqyhJq6urlhYWNCsWTM++eQTZcje7t27adWqFQMHDsTa2hpzc3OtL7l51XlRJSQkcODAAebMmYOjoyMmJia8/vrrOc4nOjqalJQUPD09MTMz0/rw3759O++88w5OTk6cOXNGa78OHTpQtWpVbGxsmDRpEpGRkcqdhMJes6SkJHbt2sXs2bOxt7fH2tqaqVOnEhYWVqyhLk/z9/fPMWb59u3bykOCVapUoXHjxlrPq+TlypUrVKtWjTp16gBZD8+NHTs2zx5SOzs7FixYkOvzE6Vt9+7d9O7dm759+1K5cmXq1KnD/PnzuXXrlpIcNW7cGDMzM/T19albt66SsBb0Gl2/fj2jRo3Czc2NcuXKYWVllW8bcOTIEdq1a0eDBg2Uh49PnTrFjBkzitQuFxRXUeTXpj4rOjqay5cvM3/+fPz9/ZXku6B2MDExEQcHByBr2K6joyOdO3emXLlyWFpaanU2FuXcdu/eTYcOHejVqxfm5uZUrFiR6tWrF7r9KixTU1MsLS0xMTHBw8ODoUOHKr9mXJR4d+3aRbt27ejSpQumpqa4urry0UcfKfmVKDydGO6SH39/f1577TX69OnDoEGDiIuL49KlS9y/f7/AfaOionBxcaFq1arcunWLhQsXEhUVBWSNOTcwMGDIkCEMHDiQ8PBwvLy8lJ58ExMT2rRpQ4UKFZQPv+xpgvbu3QvA+++/z4ABA0hMTOTPP/9EpVI99/i0l8nGjRvR19dnypQpVK5cmaioKA4ePMjq1auBrF6q8ePHU6tWLaVu5s2bB2TVu4mJCWPGjMHOzo4nT56wceNG5Tb5smXL+Oijj/D29qZy5crEx8dz+vTpPOv1+PHjTJkyRSvB9fPzo0uXLkrSVxgFxVVYmZmZTJ8+nbFjxzJhwgTlhxoiIyNz3f7GjRvExcVx4cIFrV6ZJUuWMH36dA4cOICenh6xsbHKbenk5GTWrFnDqlWr6N69O2fPnmXbtm18//33WFlZERsbS0hIiPIz5UU5t+xtp0+fTpUqVYiMjGTOnDns3buX+vXrs3HjRszMzEhISOD3338vUt1kO3/+PJMmTaJixYrEx8dz/PhxrWdSihLv8ePHMTU1Ze7cuVSuXJk///yTzz//vNDziYeFhbFq1SrmzZtHpUqVSElJITw8PMfDivm9piHrFvLw4cOpV68eUVFRLF++XBlD+s8//zB69GhGjRrFZ599RkpKCoGBgVy5ckXrfJ+t8+yZropiwYIFjBo1ihUrVmBqasrdu3cZOXKk1kOuGo2G+fPnM378eGbMmMGff/7JyJEjyczM5OjRo4wZM4YLFy7k+Jl7e3t71qxZo/ygmZeXl9JrV5RrtnjxYkaOHMn69esxNDQkMDCQyZMnF/lc8xIZGcmtW7e07sgtXbqUzz77jC5duqBWq1m9erXyEHB+EhMT8fb2ZtiwYZiZmZGWlsZPP/1ERkZGrtuXL19eGfP8oue0v3z5MtOnT2fYsGGMHz+epKQkQkJCWLhwobLNu+++q9xlCAsLU4ZqFPQaDQwMZP78+YwcORIHBwfUajWhoaF53j1+9OgRN27cICIiQqkrf39/+vXrx6+//lrocyoorqLIr03Nza5du/D29mbq1KnKsoLawTVr1jB16lRu377Nn3/+yfTp0xk3bhxz5swhOTmZsLAwZZhUUc7t3r17eHl5MWbMGCZOnEhCQgIbN25k69athWq/CuP+/fsYGRmxf/9+DAwMCA0NZcaMGVy4cKHI8T548IBx48YpbUxERATffPPNc39m/JepHBwcSiSrdHBweK4PldJy/PhxQkJClHl+RU66ds2EeBl16NCBnj17MmbMmLIOpUSsWLGCDRs2aPWkb9++na+++uq5kqOSlt1TqYtKoj2VdlmIV0dx388635MuhBCidJUrVw61Wk337t0xNzfn7NmzZR2SEEL850mSLoQQ/3Hjxo2ja9eu3Lhxg6lTp/4nhu0JIYSue2WHu4iCyTUTQrxsatasqZNTvGk0Gq1ZVJ6XtMtCvDqK+37W+dldhBBCiGx5TWla1nQ1LiHEy0uSdCGEEC+N6OhonRuOo9FolB8iE0KIkiJJuhBCiJdGWloa9+/fJykpqcyTdY1GQ1JSEvfv388xZaUQQhSXPDgqhBDipZKWllaoec6FEOJlJj3pQgghhBBC6BhJ0oUQQgghhNAxkqQLIYQQQgihYyRJF0IIIYQQQsdIki6EEEIILdOnT6d27dr5bjNt2jRGjhxZqPLMzc1ZunRpSYQGQJs2bfD09ATgrbfewtfXV1lnYmLCrFmz8Pf35/Dhw7i4uADQq1cv9uzZw8mTJxk9enSJxSJEaZHZXYQQQgihxdnZmX379gFgZGREu3bt8Pf319omJCSEpKSkQpVnbGyMq6tricXXuHFj5f+hoaEcO3ZM+XvQoEFUqFCB/v37o1ar0Wg0ODg48PnnnzNy5Eju3LmDubl5icVSFDY2Njg4OHD27Nk8t3F3d+fy5cvExMS8wMiELpKedCGEEELkqVKlSkyaNCnH8iNHjhAcHFwGEWm7desWP/30k/K3i4sLO3fuJDY2lqSkJJKTk3F2diY4OJhbt26Rnp5eZglwixYt6NOnT77bTJw4kYoVK76giIQukyRdCCGEEK8MKysr4uLiciyLjY0to4iEeD6SpAshhBAvOS8vL/bu3cvp06f59ddfGTZsGMOGDWPPnj0EBgaydu1a7O3tle39/PyoVq2a8nfjxo3ZsmVLnuVbWVkREBBAQEAAP/zwAwCTJ0/mww8/BKBBgwasX7+eY8eOERQUxKZNm3Bzc8s3ZicnJzZs2EBQUBBbt27NdzhM06ZN2bRpE4GBgWzZskUZZw7QoUMHrfHuKpWKFStWKPFaW1ujUqno37+/sqxfv35A1l2C7777joCAAA4cOMCAAQOUcmrXrs3q1as5fPgwwcHBfPLJJwXu06BBA9auXcvx48c5ffo0O3fupE2bNlrn0rZtWyWO7DKftWHDBmWbKlWqEBgYiKGhodZxtm/fDkD37t3ZsWMHp06dIiAggMWLF1OjRo1C17WzszM///wzp06dYu/evTg7O+d5HcSLJWPShRBCiJdcy5Yt+f777wkKCsLGxgYfHx/+/PNPRowYQUxMDGPHjmXs2LFMnjz5ucqPiYmhU6dOea63s7NDrVbTo0cP0tLSaN26NV9++SUTJ07kwoULuW6/cOFC5syZw++//46Hhwfz58+nb9++OXrB7e3t+e6771i0aBGnTp2iatWqTJgwId94R4wYwZUrV7SW7dy5E29vb+VvfX19lixZgr+/P9OmTaN27dp4e3sTGhrK+fPnqVGjBvr6+vTp0we1Wo2RkVGB+9jZ2aHRaOjVqxdJSUm0a9eOefPm0a1bN+W8Tp48yZQpU/KN/8MPPyQ0NFT5OyIigoYNG3Lp0iUAGjZsyOXLl4GshD0wMJBVq1ZhaGhI//798fX15Z133iEmJibfuk5ISMDb25spU6YQEhKCjY0NKSkp+cYmXhzpSRdCCCFeAU+ePEGtVhMREcGxY8e4d+8eDx48IDk5mR07dlC3bt1SPX5ycjIJCQmkpaVx4sQJfvzxRwYPHpzrtn369OHAgQMEBweTmprKoUOHCA8Pp3nz5jm27d27N0ePHuXAgQPExsZy/fr1XBP/omrevDlqtZoNGzaQlpbGn3/+ye7du+nQoYOyTWJiIvHx8aSkpBAXF1eofZKSkoiNjUWtVnP48GFCQ0N54403ihXr2bNnad26tfJ3o0aNlIQdIDY2ltTUVBISEvjxxx/566+/6NGjB5B/Xevp6WFsbMyjR48AiIyMzPElSZQd6UkXQgghXjH//vuv1pCHqKgoKlWq9EJjOH/+PAMHDsx1Xe3atXnjjTfo1q2bsszQ0BALC4sc29apU4fjx4+XeHy1atWidu3a+Pn5Kcv09PQ4ffp0ie7z4MGDYj8IeuzYMaZOnYqPjw8ATZo0YcWKFXluf+7cORo0aADkX9fp6el4e3vj6+vLrl272LZtm8wqo0MkSRdCCCFeMRqNBj29/7tZnpGRgYHB/33kp6ena41xLqis56FSqVCpVHmuX7lypTKuuqDjP28M+dHT0yM4OLhIQ4CeZ5+MjAz09fWBwtVlbtv88ccfmJqa4ujoSGJiIqmpqUrvd26erff86vrnn38mODiY9957j507dzJhwgRlKI0oWzLcRQghhPiPiY6OpmrVqnmufzpRTE1NpVy5ckU+RsOGDZVx1c8mnqGhoYWeN/3GjRs0bdq0yMcvSGhoKE5OToX+svK8+zwtLS2twLpMS0vD2NhYa5lGo+HQoUN069YNNzc3zpw5k28ZDRs2JCwsTIm5oLq+f/8+ixYtYt26dXz88ceFOBPxIkiSLoQQQvzHBAcHM2TIEGxtbTE2Ns4xHCMxMREHBwcgK6FPSUnB09MTMzMz6tevn2uZNWvWxNXVFQsLC5o1a8Ynn3zCtm3bgKzx6vr6+soMM7t376ZVq1YMHDgQa2trzM3NtX6g6Gm//PILrVu35v3338fCwgIzMzMsLS2LXQdnz54lLi6O2bNnY29vT7ly5WjSpInWHYiS2Odpt2/fpnHjxtSuXZvy5cvj6OiYY5vQ0FDeeustLCwsqFWrFiYmJkBWj3eXLl1o37691o83ATRr1ow6depgZWVFnz59aNasGfv37wfyr2uVSoWzszOGhoaYmJhQo0YNZarKIUOGKLPgiLIhSboQQgjxH7Nu3ToiIyPZtm0bJ06cYNy4cZw7d05Zv2bNGj799FNef/11NBoN8+fPZ8yYMfz222+MGzcu16RUrVYzfPhwDh48yPTp01m+fDkBAQFAVpK+Zs0aVq1ahUql4p9//mH06NG0b9+effv2sXv37jx/5CcyMpIRI0bg5ubGwYMH8fPzw9nZmdu3bxerDtLT0xk9ejRGRkZs2rQJPz8/xowZg5mZWYnu87SwsDB+/vlnVq9eza5du+jatWuObVatWkXTpk3x8/Nj3rx52NjYAFn1cOHCBWrUqJFjOIqhoSFfffUVBw4coGfPnnh5eREZGQmQb12XL1+e8ePHc/LkSfbt20fVqlVZvnw5kPUsQO3atQt1XqJ0qBwcHEpkoJeDgwN37twpiaLECyLXTAghdMvL2i536NCBnj17MmbMmLIO5ZX2ySefYGxsrCTSkDVf/aNHj9iwYUMZRiZyU9z3s/SkCyGEEELoKGNjY/T09HBycqJ3797s2LGjrEMSL4jM7iKEEEIIoaPatWvHjBkz+Pfff/n66695/PhxWYckXhAZ7vIfJtdMCCF0i7TLQrw6ZLiLEEIIIYQQrxhJ0oUQQgghhNAxkqQLIYQQQgihYyRJF0IIIYQQQsdIki6EEEIIIYSOkSRdCCGEEEIIHSNJuhBCCCGEEDpGknQhhBBCCCF0TIn+4qiDg0NJFideALlmQgihW6RdFkJACSfp8itpLxf5ZTshhNAt0i4L8eoo7hduGe4ihBBCCCGEjpEkXQghhBBCCB0jSboQQgghhBA6RpJ0IYQQQgghdIwk6UIIIYQQQugYSdKFEEIIIYTQMZKkCyGEEEIIoWNKdJ70kubm5kbjxo1ZuXLlK3k8e3t7unbtyuHDh1+qeXGNjIywtrbGxMQElUpV1uG8EjQaDcnJyURHR5OWlpZj/bRp04iJicHHx6cMosvdtm3bWLZsGUFBQc9dRt++fUlJSeHgwYMlGFla8T8fAAAgAElEQVTpktf/y6Wg95Z4ftWrV2flypUMHDiQmJgYAD788EP69u1L+fLl8fX1JSAgAA8PDzZu3FjG0RZdWbe7H374Ie+88w7ly5dn7dq1rF+/vtSOZW5uzrx58xgzZky+2xWl3S9smSJvOt2T3rt3b/r27Vvi5VpYWNCsWTNMTExeyPHy0rBhQ4YNG0blypVf2DGLy8jICDs7O0xNTSVBKUEqlQpTU1Ps7OwwMjLKsT4kJIRLly6VQWR58/Pz4+7du8Uqo27dulSqVKlE4jEyMsLT0zPfbWxsbGjRokWxjiGv/5dLQe8t8fyio6M5dOgQiYmJALi4uNCvXz9Gjx5Nx44d2bdvHw4ODnTp0qWMI30+ZdnuNm3alH79+jFy5Eg8PDzYs2dPqR7P2NgYV1dX5e+82sqitPvPllkUDRo0oE6dOs+176ukTHvS9fT0GDp0KN26dcPGxobIyEiuXr3KkiVLePz4cakd95133uGzzz6jZ8+eJCcnl9pxXkXW1taSnJQilUqFtbU1jx490lp+5MiRMooobz/++GNZh6ClUqVKTJo0CX9//zy3adGiBW3atOHs2bPPdQx5/b+88npvvSpcXV0ZOXIk9erVIzExkZs3b7J06VJu3rxZasdMSEhg2bJlWjEcOXJESeLi4+MJCAggICCg1GIoTWXZ7jZt2lSrLrPvVLwoebWVL6rdf+edd/jrr7+4devWCzmerirTnvTBgwczfPhw4uPj2b17N9euXaNp06akpqaWZVgiH8/efcjWrVs3Vq9ezebNm/Hy8sLU1LTQZbZu3ZpevXrlub5+/fps2rSpyLE+r7Zt2+Lr68vWrVvp1KlTjvUuLi5s3bqV5cuXs2TJEmV5//79mTVrlvK3gYEBS5cupVWrVkDWeS5fvpxVq1blO6QqrzoWZS+3a2Nvb8+2bdu0lo0ZM6bId+W2bdtGrVq1ihXfs7755hv+H3v3HdZV9Thw/M2eMhKRNAcImhIkbssQB1qJWuJM/eLMAkVyReLXlUpZKWiiDE1EDcwEE01wgvhBBUdqlgMkt6aAyBA+jN8fPNwfH/ZSwO95PY/PI3ece+6955577lmfgIAANmzYILUy6OrqEhAQQMeOHaXt+vfvz/fff4+Kikqtjrdy5UqWLl0q/W1vb4+Li0utwqwKJycnNmzYwJYtWypsWn9Vny0DAwPWrFnDvn37GDx4MOPHj+e333576ZVQ+vr6L70w+aoS11KAei6k9+rVi9zcXKZMmcJ3332Hh4cHDg4OpKWlSdvo6ury22+/IZPJ2LlzJz169FAIw9LSEn9/f2JiYti7dy+ffPKJtO61115j5cqVhIWFIZPJiIyM5PXXX5fW7927l7i4OIUvw4qO16xZM3bt2iXVDKxfv14hvGXLlrFnzx6ioqKk9SYmJtJ6bW1tlixZwrFjxzh06BATJkyomwv5EpVVi1jUxLlmzRpmzpyJnp4eU6ZMqXKYb7zxRoXr//nnH4UX/4sWFRXF9OnTiY+PL3ebmzdv4uLiwuzZs6VloaGhGBkZ0adPHwBGjBjBo0ePiI2NBUAmk+Hi4oKnp2eFxy/rGi9YsAAnJycA1NTU8PDw4Pjx4xw5coRVq1aVGY6amhpubm4cPnyYo0eP4u7urtDcr6enx+LFizl8+DAymYywsDCFAlVERITCvbGysmLHjh3S3yEhIVhZWfHBBx+wceNGhWO///77rF69GoAOHTpIz1R4eDjDhw8v99wrirOWlhbe3t5ERERw6tQpDh48yOTJkxX2NzAwkJ7PH3/8scxj9O3bV9pm2rRpAKioqDBr1iwiIyM5fvw4y5cvR1dXt9S+L7IW/b///S937typ83B//PFHXFxcpBaG9PR0du7cybRp01BVVUVPT49PPvmEgIAA8vLyan08MzMzWrVqVetwqiMwMBAXFxd+/fXXCrd7VVtB2rZtK1V2paen8++//xIZGcnt27cBGDp0KLt27eLEiRNER0fj5eVFmzZtFMKwtrYmMDCQkydPsnPnzlLdFBwcHNizZw8ymYzQ0FBatWqFgYEBMplM2kZJSYkZM2ZIz1f//v3p3LmzQr5hZGTE999/T3R0NOHh4YwZM0ZaZ2xszMaNGzlx4gQRERGMHz++zPP96KOPiIyMRCaTsWPHDqysrMrcbuXKlaUqgGQyGU2aNJGuS3BwMDExMZw8eRJ/f39at24tbVs834XClrRvv/2WqKgofv/9d6ZOnSqlqarkT8VVlueUdS2LKzpeZGQksbGx/PrrrwwdOpTFixcTERFBdHQ0K1eulPLPtm3blhr74+TkxJw5c8qNY1l5ZVG+D4VdUrZu3crRo0c5efIkQUFBvPvuu+WGBzBs2DDCwsI4ceJEqTJSSW5ubtLxu3btyp49e+jcubPCNTp+/DiGhoZViktdpL2XrV67uzx8+BBVVVWGDBnC3r17KSgoKPWSKCgo4OjRo2RmZjJy5Ei+/fZbhgwZQmZmJm+88QabNm0iLS2N7du389Zbb/HFF1+gpKTEjh07MDIyYtCgQZw7d479+/djaGjIo0ePpLD9/Px4+vQpT548qdLxUlNTOX/+PPfu3cPQ0JCxY8fy5Zdf4ubmBoCtrS2pqakEBQWhr6/PqFGjWLJkCZ9//jkAS5cupV+/fhw4cIAHDx7Qr1+/l3CVXzw7OzuOHz/O33//DRTWCC5ZsgQ/Pz+MjIxYvHgxhw4dwtraGl1dXYKDg4mLiwMKW1MGDRpEfn4+Q4YMAcDFxYWcnBxUVVXZuHEjSkpKaGhoMHHiRIXjdu7cmU8++QQNDQ3S09PZsmULCQkJQOHDfffuXdq1a0fTpk1JTU3lhx9+4Pnz5ygpKTFx4kR69uyJsrIyFy9exNfXl/z8/Fpdh9zcXLZs2YKzszP3799nyJAhuLu71yrMsowePRpjY2M+/PBDsrOzy/3I+eKLLzAyMsLR0RFNTU2WL1/OpEmT8PPzQ1lZGS8vL27dusW4ceNITU2lX79+jB49utrxiY+Px8PDAzU1NeRyOQA2NjacPXsWgFu3bjF58mSSk5OxtLTEx8eHM2fOcP/+/WrFWUNDg+7duzN8+HBSU1MxMzPD29ubv/76i1OnTgGFTcJltX4UFxUVxZdffqmwbPbs2bRv357JkyeTmZnJrFmzWL16Nc7OztW+HiUNHDiQTp06IZfLadmyJZqamqxbt45bt24B8NVXX2FmZoaenh4LFy6U0jCApqYmkyZNolOnThQUFHD27Fl27NhBXl5epeFW5NixY/Tv358PP/yQli1bcu7cOen5ra34+HgGDRrE5s2bS60bNmwY/fv3R1lZmdu3b+Pr6ytVyvj5+bFr1y569+5Ns2bNiI+PlwYbqqurM2nSJN566y3y8vKQyWTs3r2bgoKCOolzY5eUlISuri59+vQhJiam1PqOHTsSExODr68vampqjBo1Cn9/f0aPHk1qaiotWrTgu+++Y9myZZw9e5Z+/frh6emJo6MjaWlp9OvXDxcXF5YsWcLly5cxMTHhwYMH6OjolDqWr68vgYGB0t/FC1UqKipSwXLhwoWYm5uzZs0aEhISiI+Px93dnfPnzzNz5kzU1dUxMDAo83yjo6OJiIggJycHR0dHli9fzscff1zt69axY0diY2Px8/NDSUmJTz/9lCVLljB16tRS26qoqLBu3TrOnz/P8OHDMTQ0ZNmyZSgpKREQEFCl/Km4quQ5Ja9lccWPl5KSQpcuXVi3bh2bNm3C29sbFRUV1q5dy4gRI0q19FVVWXllcS1atEAulzNs2DBycnJ45513+Prrr5k3bx7nzp0rtf2AAQNwcnLC1dWVlJQUpk6dyvLly/n000/LDN/Ly4tdu3ZJf58+fZquXbtK4wRMTU1JTk6Wzr+iuNRV2nvZ6rUm3dvbm0uXLuHh4cGePXuYMGFCqebIjIwMvLy88PPzw8fHB11dXWxsbAAYN24cmpqazJkzh02bNuHm5kZCQgJOTk4KzbZHjhzB39+f1atXK3wE7N+/n127dnHkyJEqHU8ul+Pp6UlgYCBeXl4cPnyYLl26KMT32rVrBAQE8MMPP0jrtbS0aNasGXZ2doSHh7NkyRI2btxIQEBAnV/T+tCqVSuFgSRJSUmoqqpiYmJCfn4+hoaGPHnyRDrvGTNmoKpa+H24bds2YmJi2LNnD9OnT2f69OnSDAy5ublMnz6dhQsXljqmnp4ebm5ubNy4kdmzZ/Pbb78xd+5cKdz8/Hy6d+/O2rVrWbBgARoaGtJXtY2NDd26deOLL76QMspevXrVybW4cOECf//9N8uWLePAgQNlFkRrS0dHh/T0dDIzM8nLyytzEI+Ojg4ODg4sX76cp0+f8vDhQ/z9/RkwYABQ2N/RyMiIr7/+mn///Re5XF7jptV///2X27dvY21tLS3r2bOn1IKQlZXFkydPKCgo4PLly/z5558KXS2qGufix5PL5Vy9epXw8PBa3zttbW0cHR1ZunQpd+/eJSUlBU9PT8zNzXnzzTdrFTYUfvh369aNsLAwFi1aRHx8vELtnqenJ9OnT+fx48el9h05ciTa2trMnj2b+fPn8+abb0of95WFW1mc/P39GTlyJN27d2f79u21Ps8iMTEx9OrVq1RebmNjw8CBA1m0aBGurq48fvxYoaYxPz+fdu3a8fXXX/PVV18xcOBAqZbN0dGR1157jTlz5uDu7k7Xrl1Ltar+L0tNTcXFxYWZM2eyYcMG3nnnnVKtBk+fPiU7O5v09HR++ukn/vrrL4YNGwYUtvqFh4cjk8nIzs7m4MGDJCUlSdd4woQJ0sd1ZmYmiYmJ0gd5dfTo0QO5XE5gYCA5OTlcuXKF0NBQ6RnX1tbm8ePH5OXlkZWVVW7+mZycTFZWFnl5efz66680b968xoWq1NRUsrKyyMzMxNfXF0tLyzI/Prp164aOjg5eXl6kpqZy8+ZNVqxYwdixYxXKG1XJn+oyz/n333/Jzc3lzJkzXLt2jb/++ounT5+SnJxMeHj4Cx98mZWVRXp6Ojk5ORw/fpyffvqJ//znP2VuO378eNasWcOtW7d49uwZPj4+vPXWW1W+d6dPn+add96R/ra0tFQY2FtRXOoq7b1s9VqTnpyczNSpU+nduzdjxozB1dWVMWPG8Nlnn3H37t1S2yclJQGF3VigsBk9NTWVq1evAkgJddy4cRgbG9c6fiWP17JlS+bPn4+lpSVNmjRBLpejqalZ4f7KysoYGhrSqlUrlJSUOH/+fK3j1dBoaGgo9H3Mzs4mPz8fdXV1cnJyUFJSkppEb9y4ARR+gVelxq88VlZW3Lp1S5q68vTp00yfPp1WrVpJy86cOSONb0hKSpLSxPnz5/nrr7+kj4EbN27QvHnzGselpPj4eHr16lVhd5na2L17N97e3mzatInAwECpMFxc69atUVdXV2j+V1JS4vnz50DhrCoXLlyok+4NUFjjYmtry9mzZ2nbti3Z2dnS/bWwsODzzz/HzMwMVVVVtLW10dDQqHacy3L//n2FmrqaaNOmDSkpKTx48EBaJpfL+fPPP+nQoUOd1DAnJCRImX5SUhKWlpZV2q979+4EBARQUFBATk4OUVFR0oCy2oQLhS0cqamp3L9/X6GLYW1lZmZy9uxZbG1tFVqnunfvzsmTJ0lPTwcKB+WtWLFCYd+iAYYZGRk8evQIY2NjHjx4QI8ePdi6dSu5ubnk5uZy7NgxevXqVeMBwK+iy5cvM27cOHr37s3EiRNxdnZm3rx5Cum6uLi4OOlj2dzcnLfffhsHBwdpvZqamtQtxMLCgosXL9Y6ju3atcPc3JyIiAhpmbKyspSH+fj4sHr1aqysrAgKCiIxMbHMcPr378+4ceOkmlxlZeU6mbknKyuLtLQ0DA0NpRlrilhYWHDp0iWFNH3t2jXU1dUxMTEptT2Unz+9qDznyZMn6OvrK/zdtGnTGoVVU/Hx8eV2FTE3N2fp0qUK11Aul2NoaFilSqLY2FgWL16MoaEhKSkp2NjYSK3ylcWlrtLey1bv86QXFBQgk8mQyWTY2tryww8/MGnSJFauXFlq26ICRUWDm5SVK28cqGoTacnjeXh40KFDB9asWcOdO3dwcnLivffeK3f/opoGZWVlKVGW1c+1scvKylIYKKqpqYmysjJpaWkoKyuTk5OjMD/x8+fPqzWwtCwGBgY8ffpUYdmzZ88UMqjiHw75+flS2mjSpAkTJkygVatW5Ofn07x583JfZNWlrq7O6NGjOXLkCE5OTgoDSetKcnIyTk5ODBw4kFmzZjF06FA8PDwU0rWysjLp6ekMHjy4zDBUVFQqfVZyc3NRU1OrUpyOHDnCd999x9q1axkwYIDUOqWkpMSaNWsICgpiwYIFFBQUsG7dujLDqCzOZcnLy5POoyrPdVnb1LafckFBQakwlJSUFF5EmZmZ0v+Lx7ky+vr6Cun82bNn6Onp1TpcgEGDBvH48WNatGiBlZUVly5dqvK+lYmIiGDmzJkcPHhQWqavry/1kYbCml0tLS2FblLlPbN6eno4OzuTm5sLFA7KLqpEEf5f8ffpl19+yaxZs/Dw8Chz25JpdtOmTYSEhJS7bW0HFUPhMy6TyViwYEGZ6y9evMiIESMYMWIEGzduZPPmzQrdHaBwDNOiRYuYN28e58+fR1NTUyGdFZefn1/teMvlcqlFtria5BPlPZMvamxEXl6ewvkWVZZB9fJzqHo5qSQlJaVyz09JSYnPP/9cqqyr7vGzs7M5ceIEAwcO5JdffqFLly7ljj0qGZe6SHv1oV67u5R8EIpeElX98rt69SoGBgZS85Cqqirdu3cnNTVVoe95SUUvturOz9ymTRsuXbrE/v37+eOPP6o1yCshIYG8vDzs7OzqJLNrSG7fvo2pqan0d9u2bcnKyiI5ORkorJEpfq+LumvURkpKikKBHAoL31X5Gh87dixaWlosWrQIDw8PLl++XKu4FOfo6Mi1a9fw8/NDTU2Nvn371lnYxeXn5xMZGYmTkxNdunQp1X2kqI9qeU2dN27coFOnThUeIyUlRWFgdEWuX79OVlYWlpaWDBo0iAMHDgCF96R58+b8+uuv5ObmSk2JRYpnxJXFuTLZ2dkVtmwB5OTklNomKSkJQ0NDhQFMampqWFpaSq10FXn27BlKSkoK3Tv09PRKfUTWRGpqqkI619PTq5MZH/T09Bg1ahRbtmwhMDCQqVOnllkwqambN2+SnZ2tMFvN06dPFT4wDAwMyMzMrFK3iZSUFLy9vXFxccHFxYUZM2ZUOgD7f9358+crHMBraWkp1RYmJCRUOJ91YmJinXT9SkhIwNrausLCYmZmJtu3b2fmzJnMnDmz1HoLCwtu3LjBuXPnpB+qKm88UXJycpXzsMpcv34dKysrhUJ3+/btkcvl1Z7Ws7Z5Tk2kpqaip6dX7gxHJQvFZeWVVWFpaSmNqykZZkJCAt27d69SODk5OWW2uB44cAAHBwfatGlDenq6VM6oLC51kfbqQ70W0n/44Qd8fHxwc3PDzc0NPz8/oLCbQlWEhISQnZ0tzSqyfv16zMzM2L59e4XN+EWFMnd3d2bMmFHhwIjibt68SY8ePfj000/56KOPyuxXW57k5GT27duHjY0NP/74I9OnT2+0P/BQ0vHjx7G1taV9+/bSy//YsWNSrRcUDi6Fwn6pubm5CjXXWVlZ0oh6XV3dKmUMly9fpnXr1rRt2xYonN4wMzNToaauPLq6uiQmJpKXl0fLli3p0KFDmcfMz88vM5Moz+uvv469vT3bt2+noKCAn376iQkTJpTZv7E2zMzMaNasGUpKSrRt2xYNDY1S3RUyMjIIDw9n6dKlvPnmm2hqamJqaip1+YmLiyM/P59Zs2bRtGlTWrZsWWr2AJlMxqRJkzAxMUFDQ6PSj+d9+/axYMEC0tPTpQ/Y9PR0UlJScHBwkGrvixcGMzIyaNu2LUpKSpXGuTIpKSk8f/6cQYMGoaOjU2ah4saNG1hZWWFubo6enh5mZmZkZmayZ88elixZQsuWLTE0NMTd3Z3ExMQqNTs/e/aM+/fvM3DgQFRVVenQoQMdOnTgr7/+qlK8KxIXF4e9vb00eNrOzq7K+WNFJk6cyIkTJ7hz5w7x8fE8evSIoUOHSut1dXUJCQlh4MCBNT5GRESEwo+hnDlzhnfffVdqTRw8eHCVz+XMmTN88MEHqKqqoqqqysiRI2v8IyktWrTg22+/bTADw+qChYUFgwYN4rXXXkNDQwMLCws++eQThe6V3bt3x8LCAgMDA0aMGEH37t3Zt28fUDgzVe/evRk/fjyGhobo6uoqzJgSHByMi4sL3bp1Q0tLi1atWmFoaFjteJ4+fZq0tDTpWdPU1KRz585SwdfKygodHR1UVFRo3749z549KxXGP//8Q/v27aX3r5qaWrk1tzKZjKFDh9KxY0fU1dVr9cOBcXFxZGZmMnv2bPT19WnTpg0eHh6EhIQovOuqorZ5Tk2kp6fz559/8vnnn6Onp4e2trbCM5CVlYWKigotW7YEys4ry9K2bVu6desm/UjktGnTpIGqJcMMCQlhypQp2NraoqOjg5GREebm5mWGm5CQgJ2dHU2bNsXY2Fj62Dpz5gza2tpMnz6do0ePVjkuNU17bdu2rdeZ+Oq1u8v58+d5//33GTVqFEpKSty7d4/169eX2+RW0q1bt3B2dmb27NmMHTuWlJQU1q1bV+kgqMuXL+Pv78+oUaOYMGECV69erVLttqenJ/Pnz2fUqFFoaWmRmpparT6R3377LY8fP8bBwQEbGxuePXvGhQsXKqz1bwwuXLjAL7/8wrx589DW1iY+Pl5hNHlGRgaGhoZ4eXlJM7YUz9SOHTvGnDlz2L59O2lpaaxfv56//vqLqVOn0qtXL5SUlFBXV8ff3x8ovI43btxg7dq1uLi4oK6uztOnT/nhhx+q1Md6//79ODs707VrV+7cuUNQUBDTpk3j2rVrCv3bLl26hJOTE8OHDyc+Ph5fX98Kw506dSr79u2TvuyvXbvGxYsXGTduXJ0OEu7VqxeTJ09GR0eHu3fv4uPjU2arzrfffsvMmTNZu3Ytenp63L17l5UrV/Lo0SPkcjmurq58+eWXhIaGkpKSUqoJcsuWLSxatIjg4GA0NDR4+PAhx48fLzdeRde1eFe1/Px8PDw8mD17NnPnziUnJ4cnT55IaX7Pnj2sXr2aTz75hB07dlQY58oUFBTg6enJnDlzWLRoEVeuXMHZ2Vmhli0xMZHdu3fj5+dHfn4+e/fuZf369Xh5eeHs7MzWrVtRU1MjJiam3GbRsvz4449MnTqVMWPGkJqaypYtW6o08KhPnz7SFG9Fs7vk5+cTFhbG/v372b17N1OmTMHb21vqylDbH4Z58803sbGxUZg+NDAwkJUrV3Ly5EkePXqEpaUlaWlpREVF1fg4MplMYQDZhQsXpH7oysrKJCYmVvm5CAsLw8nJibVr16KhocHly5el1prq0tPTw8rKqsotb41B0Sxp7u7uaGtr8+TJEw4fPqzQFUBNTY0VK1bQsmVLEhIS+OKLL6Tn6s6dO8yaNYuZM2fy2Wef8fz5c2JiYqTW7d9//x0tLS08PDxo3rw5jx49YtmyZdL4n6rKzc1l1qxZzJ07l6CgIFRUVEhISGD27Nk8e/aMsWPHSl1IExMTy+wumJiYiK+vL6tWrcLIyIjnz5+TlJRU5u+rnD59muDgYNauXSt1kTxz5oxC98uqysvLw9XVFXd3d/bt2ycVtGuat9c2z6mJpUuXsnjxYn7//XcKCgq4ffu29BskWVlZBAQE4Ovry9ChQ8vNK0uSy+XMmDGDDh06kJyczIYNG6Q8qmSYRenI1dWVFi1a8OTJE7Zt21Zm95eiQbd79+4lNTUVLy8v7t+/T0FBAT///DNfffVVqYHyFcWlpmnP1NSU/v371+ng+upQMjU1rZM5rExNTav9wAr1qyb3rHi3lqowMTHB09OzwvliG5suXbrg6OhYbl/PyrRt2xZ3d3c+++yzcrepj2epqJWoaD5cobTqpv/69s033xAcHFztnzafMmUKKSkphIaGvqCYvRhDhgyhXbt25Y57gPp5tqrjRbxLFyxYwMOHD8udzk8QamLAgAEMHz68wh8QexE6d+7MrFmzFKbKfFFxGTNmDJ06dWLJkiU12r+2z3O9dncR/je8qj8gIgivKjMzM+nHjwRBEOpb0Qw+xsbGzJs3T/oNhRetd+/eCjPCvGz1PruLIDRGpqambNq0CblczqxZs6q0z7vvvsvEiRNRVVWtdh9GQaipmTNnkpubS2hoaJVfNosWLXrBsapbkydPpmfPnmhqapb5IyqCIDRuJiYm7Ny5E7lczvbt22vVFa86/Pz86mR8UU2J7i7/w2pyz4oG+QkvTkFBgZheroES6b9xawzPlniXCsKrQ3R3EV6q4tPnCS+GuMYNl7g3jZu4f4IgNCaikC5US0pKSo1/5ECoXEFBASkpKfUdDaEcIv03XuLZEgShsRGFdKFacnJyuHfvHpmZmaKwUocKCgrIzMzk3r17NZoeTHg5RPpvfMSzJQhCYyUGjgrVlpOTU+1fWBOEV4VI/4IgCMLLIGrSBUEQBEEQBKGBEYV0QRAEQRAEQWhgRCFdEARBEARBEBoYUUgXBEEQBEEQhAZGDBwVBEEQhEbOw8ODkJAQbty4QatWrdi0aRPjx48nNTWVr7/+mqCgIK5du1arY6irq2NoaIiWlpb4Ua8GrqCggKysLFJSUsSsRo2YqEkXBEEQhEbOxsYGLS0toHA+/4MHD5KRkQFA+/bt0dDQqFX46urqtGjRAm1tbVFAbwSUlJTQ1tamRYsWqKur13d0hBoShXRBEARBeIWkp6ezfv165HJ5nYVpaGgoCueNkJKSEoaGhvUdDaGGRCFdEARBEIQKFdXSF+fm5oajo6P0t4mJCcHBwdUK19HREXd39yxfuyQAACAASURBVFrHr7guXbqwc+dONmzYgLe3t7R81KhRLF68WPpbVVWVdevW0bt371odb+nSpQwbNkxhmbOzM9OnT69VuH379iU4OFjh365du+jbty8AzZo1Y8OGDWzYsIGQkBBMTEzKDKeseyc0DqKQLgiCIAivEAMDA2QyWZnr2rVrR3h4OKampgAYGRnx/fffEx0dTXh4OGPGjClzvxdVi37s2DG2bdtW5+HevHkTFxcXZs+eLS0LDQ3FyMiIPn36ADBixAgePXpEbGxsrY61detWPvroI3R1dQFo3bo13bp1IyQkpFbhRkVFMXbsWOnfN998w+PHj4mLiwPg33//xcXFBRcXF7KyssoNR7SANF5i4KggCIIg/A9o2rQp3333HUuXLuXmzZuoqKjg7e1NZGQkCxcuxNzcnDVr1pCQkEB8fHytj+fn58euXbvo3bs3zZo1Iz4+XiqQW1pa4ubmhrq6On/99RfffPONwr6dO3fmk08+QUNDg/T0dLZs2UJCQkKl4VYkNzeXLVu24OzszP379xkyZEid1OInJSURFxfHiBEj2LZtGxMmTCAsLIy0tLRah11EV1eXGTNm4OPjQ2ZmZp2FKzRsoiZdEARBEF5xWlparF27Fl9fX6kA3qNHD+RyOYGBgeTk5HDlyhVCQ0MZMGBAnRwzPz+fdu3a8fXXX/PVV18xcOBAqUvGn3/+yfTp0/npp59K7aenp4ebmxsbN25k9uzZ/Pbbb8ydOxdVVdVKw63MhQsX+Pvvv1m2bBkHDhzg/v37dXKuwcHB2NnZMWDAAFq0aMGBAwfqJNwi06ZNIy4ujkuXLtVpuELDJgrpgiAIgvCKW7RoEZcvXyYiIkJa1q5dO8zNzYmIiJD+jRw5Eh0dnTo7bnR0NAAZGRk8evQIY2PjSvexsrLi1q1b3Lx5E4DTp0+jrq5Oq1atahVukfj4eNTV1euktaBISkoK+/fvZ8aMGWzfvp3c3Nw6C/udd97B1NSU7du311mYQuMgCumCIAiC8Io7cOAA9vb2CoMklZWVkclkDB48WPpnb2+vMLiyMsX7OyspKZGfn6+wvnhf6fz8fJSVKy92GBgY8PTpU4Vlz549Q19fv1bhQuFUkqNHj+bIkSM4OTlVaZ+qOnnyJPn5+Zw6darOwjQ0NGTKlCls2LBBzHf+P0gU0gVBEAShkSsoKKhw/cmTJ/nqq69Yvnw5ZmZmACQkJGBtbY2amlqNjpmWloa2trb0t76+fqnCdU2kpKQoFMgBmjRpQmpqaq3DdnR05Nq1a/j5+aGmpibNlNJQffbZZxw5cqTWP0QlNE6ikC4IgiAIjVxGRoY0Y0t54uPj8fHxwdPTEw0NDU6fPk1aWhpLliyhZcuWaGpq0rlz5yrXSl+7do1u3brRtGlTtLS0eP/997ly5Uqtz+Xy5cu0bt2atm3bAoXdPTIzM7l9+3atwn399dext7dn+/btFBQU8NNPPzFhwgSF7j2TJk1i48aNUv/3ulKTcO3t7TE0NOSXX36psziMHDmyTsISXg4xu4sgCIIgNHIBAQG4u7tz48YN7t27V+52RQNDJ0+ezKZNm5g1axZz584lKCgIFRUVEhISmD17Ns+ePav0mDKZDHNzc7755hvU1NT4+++/8fX1rVJ8V69ejaGhIerq6qipqeHv709eXh6fffYZaWlprF27FhcXF9TV1Xn69Ck//PADeXl5Vb4eZZk6dSr79u0jOTkZKPzIuHjxIuPGjSMgIACAt956i/Dw8DrtU17TcO3t7WnTpk2pvugymYx169ZVOw4WFhZVuq9Cw6FkampacRtZFZmamkqDPITGQdwzQRCEhqWh5suV1dI3JF26dMHR0REPD49q7aenpyd9HDx//rzO4vOiwi1u69atuLu78+DBgzLXN8Q09b+gts+z6O4iCIIgCML/vE6dOhEZGVnnBekXFa7w6hPdXQRBEARBeKWYmpqyadMm5HI5s2bNqtI+p06dqtOZWV50uMbGxixfvhwonAdfePWIQrogCIIgCBUqKChoND8vf+7cOT755JP6jsYL9+jRIz777LNKt6ts5h+h4RLdXQRBEARBqFDxecmFxkXcu8ZLFNIFQRAEQahQSkqKqJFthAoKCkhJSanvaAg1JArpgiAIgiBUKCcnh3v37pGZmSkK641AQUEBmZmZ3Lt3T/xSaSMm+qQLgiAIglCpnJwcHj58WN/REIT/GaImXRAEQRAEQRAaGFFIFwRBEARBEIQGRhTSBUEQBEEQBKGBEYV0QRAEQRAEQWhg6nTgqKmpaV0GJ7wE4p4JgiA0LCJfFgQB6riQfvPmzboMTnjBTE1NxT0TBEFoQES+LAivjtp+cIvuLoIgCIIgCILQwIhCuiAIgiAIgiA0MKKQLgiCIAiCIAgNjCikC4IgCIIgCEIDIwrpgiAIgiAIgtDAiEK6IAiCIAiCIDQwopAuCIIgCIIgCA2MKKQLDcbChQtxdnauVRiOjo4MGTJE+tvDwwNzc/PaRu2FmThxIhYWFi8k7Pfffx9/f/8a76+srMzixYtRVi7MJuri/rwon332GW3atKnvaAjC/4y6yLvat2/PlClT6ihG9a+hv28qYmFhgZOTU31H44V444038PX1JTo6mgMHDqClpVXfUaoyUUgXGowzZ85w4cKFWoXRvn17jIyMpL9tbGwa9APZt29fDA0NSy1XV1dn0KBBtQo7ISGBo0eP1nh/JSUlhg4dipKSElA396djx461erEbGxvTs2fPUsv79euHnp5evcTpVWJra4uBgUF9R6NOlJdWhLpRXt5VHa1ataJz5851FKP619DfNxVp3bo1Xbt2re9ovBD//e9/iY+PZ+DAgUycOJGsrKz6jlKVNYhCep8+fdi4cSPR0dEcP36cwMBAHB0d6ztaQhni4uLK/dejR49ahX348GFkMlkdxbRxMzIyYv78+bUK4/r16/z88891FKO6uT+jR4/Gxsamxvv37NmTESNG1CoOJdU2Tq+SefPm0bRp0/qORp14EWmlIduxYwfvvPNOqeXr1q1j6NCh9RAjQah/KioqvP3222zfvp2cnByePHlS31GqFtX6jsCkSZNwcXEhPT0dmUxGXl4eZmZmvP322/z666/1HT2hhO7du0v/j4iIYNasWVy7dq0eYyQIgiAIglBakyZNyM/Pb1S158XVa026mZkZn3/+OTdu3ODjjz/G3d0dDw8Pxo0bx4oVK6TtPvzwQ3755RdOnjxJUFAQvXr1ktb16NGDzZs3ExERQWxsLLt27eLjjz/mxx9/JDo6msjISKZPny5tb2xsjLe3N+Hh4chkMiIiIpg4cSKLFy/m0KFDREVFsWrVKoUmq9dee41Vq1Zx7NgxDh06hLu7u8L6ZcuWsWfPHqKiooiOjmb9+vWYmJi84KvX8AwePJiNGzcqLJswYQJffvklAPPnz+e3335DJpNx6NAhvvrqK7S1taVtFyxYoNAnzsrKis2bN3Py5EkOHjzIwIEDAfjoo4+IjIxEJpOxY8cOrKysKo1bs2bNiImJQU1NTVrWsWNHQkJCSm3r6OjI119/rbBs3bp12NnZAYVpaOPGjZw4cYKIiAjGjx8vbWdtbU1gYCAnT55k586ddOvWTSGckSNH8ttvvxEdHY2Pjw/NmjUrN84GBgZER0cTHR3Njz/+KC0fMmQIe/bsISYmBl9fX9q1a1fm/gMGDGDdunXS33PmzCEsLIzY2FiOHTvG119/rZCO1dTUWLBgAYcOHeLQoUMsW7ZMIby6uj9ubm7SeRU1rxoZGfH9998THR1NeHg4Y8aMKfe69O3bV9p/2rRp0vKvvvqK6OjoMs+tJnEqrqpprmPHjmzdupWjR49K+dW7774rrVdRUSE4OJjo6GiOHj3K3LlzUVFRAUBDQ4PVq1ezf/9+ZDIZ69evr/TYDg4OBAcHExMTw7Fjx1i5ciVDhw4lKCiImJgYQkNDS9WuDhs2jLCwME6cOFFmXhUYGChdi6K4VZSu7e3t2bFjB1FRURw/frzMFjVDQ0O+/fZboqKi+P3335k6darUjQrg888/JywsjJMnTxIREYGOjo7C/ubm5vj5+XHo0CFkMpl03ytLN2WllYiICN544w1pGysrK3bs2FFhXIYOHSpd55MnT+Lv70/r1q1LnWdD9zLyrp9//lmhMqdfv36lxsb8+uuvtG/fHih8ZsLCwpDJZPzyyy/06dNHYduK4lWd+1LRs1fcokWLFMoMUNjXfOzYsUBh14mjR49y4sQJvLy8yu3yU9l7pLJzK6km+W11023Lli3x8/MjOjqasLCwUi0w1YmvpaUlmzdvJiYmhpCQEPr16yet09LSwtvbm4iICE6dOsXBgweZPHmywv7VeSdUlr+oqalJ+UBQUFC54TRE9VpI//DDD1FWVmbdunWkpqYqrMvJyQFg0KBBLFu2jGfPnhEYGIiWlhZeXl5YWloChZm3tbU10dHRbN68GR0dHRYuXIiWlhZBQUE8fPiQTz/9VHrxGhgY8M477/DPP//g5+fHnTt3cHV1pVu3buzZs4dTp05hb2/PhAkTgMKbu2HDBvr27ctvv/3G8ePHGTFiBCtXrpTiamtri5KSEkFBQezdu5fu3buzZMmSl3EJG5QzZ85gaWmpUBC2tLSU+jF369aN7777jr59+zJx4kT09fX5/vvvywzLxMQEb29v9u/fz4cffsh//vMfzp8/D0B0dDTDhw/nvffeY+/evSxfvrzSuP3777/cvXtXSjdFcbt48WK1z9Pd3Z3z589jZ2fHRx99JPX7btGiBd999x2+vr7079+fbdu24enpKfWVHjRoEJMmTWLJkiU4ODgQFBSEurp6ucdJTU3F1tYWW1tbZs6cCYCdnR3Ozs4sW7aMwYMHc+TIEXx8fKrUj7hnz554eXlha2vLmDFjaNasmcKgrXnz5mFqasr06dMZM2YMcXFx5YZVm/tTFAdbW1vOnj2LiooK3t7eXLp0iYEDB7JgwQImT55c7gsgKipK2j8gIEBa/vPPPzNo0KAyz626cSqpqmmuRYsWyOVyhg0bRr9+/di8eTNff/01Xbp0ASAvL4+5c+fSt29fRo0aRc+ePbG3twcKX1x9+vRh8uTJ9O3bl8WLF1d67E6dOhEbG8vAgQMZPnw4WlpaTJgwgZUrV9K/f3/8/f1ZtmyZVBgZMGAATk5OuLq68uGHH5KQkFDqXJycnKRrkZeXV2m6trGxIS4ujkGDBjFs2DD++OMPhfBUVFRYt24dDx8+ZPjw4Tg7O9O3b1+mTp0qbWNnZ4e3tzd2dnaMHz+ejIwMhTDatGmDiooKI0aMoH///uzatatK6aa8tFKRsuLSsWNHYmNjsbe3x97enj///LNR5vEvI+/6448/sLa2lv7u3LkzHTt2lNKgvr4+BgYG3LhxA4AHDx4wY8YM+vbti5+fH6tWrZKOW1m8qnNfKnr2iouLi5Oe1yI2NjbEx8cD4O/vz6BBg7C3tyc9Pb3Gg+krO7fiaprfVjfdqqmp4e/vj4ODA99++y2zZs3ivffeq3Z8mzdvjre3N6GhoQwePJgffviBhQsXSt0KNTQ06N69OxMmTOC9995j9uzZjBkzRqqArc47oSr5i1wul/KBiRMnVuX2NBj1Wkg3NTUF4PLly+VuM2XKFB49esTMmTPx8/PD1dWV/Px8/vOf/yhsFxwcTEBAAD4+PkDhg+Tv7y8lyJIPXVRUFFu3bsXDwwMorF3ZuHEjX331FSkpKdL27733Hubm5mzYsIG1a9eycuVKwsLCeO+99xRqMK9du0ZAQAA//PADhw8fpkuXLo12AElNpaSkcPv2bYVr/dZbbym8tFNTU5HL5Tx48IAlS5ZgYWGhUHAuMmLECKKjo9mzZw9Pnz7l0aNHUl+y5ORksrKyyMvL49dff6V58+ZVKqSePn1aoVbxrbfeqtFASG1tbR4/fkxeXh5ZWVncv39finNRC012djYHDx4kKSlJqlkcO3YsGzZs4Pz586SlpREbG8vdu3erdeyJEyeyYcMG/vjjDzIyMti1axeXLl1SmNGmIk+ePEEul/Po0SO2bdsmZYra2to4ODiwbNkykpKSSE5OJjw8vNxw6vL+9OjRA7lcTmBgIDk5OVy5coXQ0FAGDBhQjSsDSUlJPH/+vNS51SROJVVn/6ysLNLT08nJyeH48eP89NNPCvnV3bt3KSgo4MmTJ0RGRpaqlX/06BFyuZyUlJQqHTs1NZXnz5+TlpbGr7/+Snp6On///Tc5OTkcOHAAQBpMPX78eNasWcOtW7d49uwZPj4+vPXWWxVei8rSNRQ++9nZ2aSlpZGdna2wf7du3dDR0cHLy4vU1FRu3rzJihUrGDt2rEJN5uPHj5HL5Tx+/LjMeGRkZPDs2TPpXOsq3ZSlrLikpqaSlZVFZmYmvr6+WFpalqrxb+heRt519uxZhdaoLl26cPv2bTp27Cj9feHCBfLz84HCtPPw4UPkcjmHDh0iISGBt99+u0rxgurdl8qePSh8T1haWqKhoQEUFpC1tLRISEgACj8qcnNzef78Obt3765SS25ZqnJuxbetaX5bneuTlJREXFycdI83b94stSBUJ76Ojo5ERUURHh5ORkYGZ86c4aeffipVQP7333+Ry+VcvXqV8PBwKc+uzrNd1fylsarXPukFBQUA0sNakqqqKmZmZhw5coTMzEwA7t27x82bN3nzzTfL3Kco43jttdcAuHPnDkC5Mz88ePCAvLw8afv8/Hzu3r2Lvr4+AB06dADg1KlT0j4ymYyPP/6Yjh07Sg9ucUlJSSgrK2NoaNho+0HV1NGjR7G1teX06dOYmJiQl5fHgwcPytw2OzubP//8kw4dOvDnn38qrGvfvj3R0dFl7te/f3/GjRsn1VoqKytXWCNdPG7u7u7Sh1znzp1Ldc+pCh8fH1avXo2VlRVBQUEkJiYCha06b7/9Ng4ODtK2ampqNGnSBCic4qqiD9KqsLCwKFVTef78eSmdVsf9+/eldN+2bVuePn1a7r0qqS7vT7t27TA3NyciIkJapqysTGxsbDXORlHxc6tJnEqqzf7x8fFStwJ9fX1cXV2xsrKS0sXJkyfr7NhPnjwpVeB+8uQJRkZGPHz4EHNzc5YuXaqQ58rlcgwNDUu1ZhapLF1XxsLCgkuXLikc89q1a6irq2NiYlLtD9UiLyLdVFVWVhZpaWkYGhqWqvVvyF5G3nXmzBn++9//oq6ujra2Nmpqahw4cIAePXpw+fJlunXrVuE9un//vjR4ubppr6L7UtVnLzU1latXr9KzZ0+io6N59913iYqKoqCgAGVlZaZMmULfvn0xMjIiJydHKsdUV3XOra7y2+qm28uXL0stktWNb8mZxc6dO6fQvaqk+/fvSzP9VOfZrix/aUzPZ1nqtZB+7949oLDbwZkzZ8rdrnjfIkCat7kseXl5ANIXVMm/y5Kfn68QZl5eXoXbl4xPSXK5vNJ4vqoOHjzI5s2bWbNmDV26dKn0hamkpFTm9VRSUirzHrzxxhssWrSIefPmcf78eTQ1NTl48GCV4vbHH3+gra2NmZkZGRkZZGdn8/Dhw1LbVXb/L168yIgRIxgxYgQbN25k8+bN7Nq1C4BNmzaV2c8dCj9Ky/sgLWvbF00ul6OqqiodrzrHrOn9KesYysrKyGQyFixYUOlxqxrH4udWkzhV55wqUzyNz5kzB4CpU6fy7Nkzpk+fTvPmzevs2Pn5+aXuS15entQFTUlJSRoHVJbyrkVF6boyleWXNVVZuinvXHJzcxW65NVU8TTWEOTk5KCrq1tqub6+vtS68TLyrqdPn3L9+nW6d++Ojo4Op0+f5tSpU8yfP58tW7bwzjvvsHPnznL3L5n/VjftlXdfqvPsHT16VBrPMGDAAKmrlIODA3Z2dnz55ZfcvXuXLl26SN3SKjuPslT13OryfViddJufn69w36sT3+rKy8uTykzVeSe8qPyloajXUmTRl9bMmTNLNb+oqKiQm5tLYmIi1tbW0vqWLVvSpk2blzajyNWrVwHo3bu3tKyoy0TROuH/3b17l7t379KzZ0/efffdCgvpKioqdOjQoczWiISEhDJbSywsLLhx4wbnzp2joKCArKwshUyk5Iu5+N8FBQUcPHgQBwcH3n33XYXWkeKSk5N5/fXXKzzPzMxMtm/fzsyZM6X+4gkJCRUOpLl27VqF64vLzs5GU1Oz1PLr168r9PeEwv6StU2LSUlJ6OvrKwyoq0hN709OTo7UjFw8LGtr6yoVnHJycsq8LhWpSZyqs39lLC0tpTRuYWHBvn37ePbsGUCltTy1PXZJCQkJCoP6Sirv/lQ13Zbl+vXrWFlZKVRatG/fHrlcXuZHclVVlm7KSyspKSmVPt+NUVJSUqm8QV9fH1NTU5KSkqRlLzrvgv8v5Nra2hIdHc21a9cwNjamc+fOZGRkVLn1pLZpr7jqPHsHDx7E1taWFi1a0KJFC6n/t4WFBdHR0VL809PTFfYr/r6p7D1SnXOraX5bW127dpXeLdWJ77Vr10qlxS5dulS53Fadd8KLyl8ainotpF+4cIGwsDBpdPeKFStYuHAhPj4+0mwWgYGBNGvWDB8fH5ydnVm/fj0qKips3779pcTxxIkTJCYm4uLiwvz581m8eDEfffQRsbGxXL9+/aXEobEJCQlh9OjRWFtblyoIDxgwgNdffx1jY2Pmz5/Po0ePyhy8WdT/7KOPPkJXV5emTZvSqlUr/vnnH9q3by/1b1RTU1P4ks7IyKBt27bSsoyMDGnsA8Du3bv54IMP6N+/f7k/9HPhwgXMzMwYPHgwmpqa6OvrK8xCY2VlhY6ODioqKrRv317K9ENDQ+nduzfjx4/H0NAQXV1dhf6KW7duZebMmbz77rtoampiYGBQboEzJSWF58+fM2jQIHR0dKQMuujlamVlhba2No6OjlhbW7N///7yb0gVZGVl8csvv+Dp6YmFhQUaGhoV1vDW9P4kJCRgZ2dH06ZNMTY25vXXX+f06dOkpaWxZMkSWrZsiaamJp07dy6zJerGjRtYWVlhbm6Onp4eZmZmlZ5bTeJUnf1Latu2Ld26daNJkyZ0796dadOmERwcLIU1ePBgabxKZS+h6h67MiEhIUyZMgVbW1t0dHQwMjJS+IXEhIQE3n//fZo0aUK7du3Q0tKqNF1XJi4ujszMTGbPno2+vj5t2rTBw8ODkJAQcnNza3wulaWb8tKKTCZj0qRJmJiYoKGh8crMCx8aGsrHH3+Mo6MjzZo1w8LCAk9PT65fvy4Vjl5G3gWFv6lgZ2dHx44dpXE/J06cYNGiRURGRlbrnGqT9oqrzrOXkpLCxYsX8fT0JDIyUip8//PPP7z33nvSzDYlr0Hx901l75HqnFtN89vq0tbWRl9fHy0tLfr168eUKVPYtm1bteO7Z88e7Ozs+OCDD9DW1qZbt25Mnjy5yuW26rwTXlT+0lDUe1vdqlWruHLlCh9//DG2traoqqpy584doqKiAPj9999RVVVl0qRJjB8/nqSkJL744otS/XJfFLlcjouLC/PmzcPBwQG5XE5YWBhr1659KcdvjI4cOYKrqyvnzp2TZukp0rJlSwICAmjSpAlxcXF88cUXZX753759my+++AJXV1fmzZtHeno627ZtY+fOnfj6+rJq1SqMjIx4/vw5SUlJUnPunj17WL16NZ988gk7duwgICAAd3d3bty4wZUrV3j06BHnzp3D2tq63Jld0tLS8PDwwM3NjWXLlpGVlUViYqI0yGrs2LHSiPfExESpufPOnTvMmjWLmTNn8tlnn/H8+XNiYmK4dOkSADExMXh6euLs7IypqSlyuZyEhAT+/fffUnEoKCjA09OTOXPmsGjRIq5cuYKzszPHjh1DW1ub5cuX06xZM65cuYKLi0u5/YmrY/369UyePJk1a9bQrFkznj17RmxsbJndBmp6f4oGB+3du5fU1FS8vLw4fPgws2bNYu7cuQQFBaGiokJCQgKzZ8+WChFFEhMT2b17N35+fuTn57N3715pqsLyJCYmVjtORfe6KvuXJJfLmTFjBh06dCA5OZkNGzZI/Um9vb3x8PAgPDwcZWVlnj59KnU3qEncq+v3339HS0sLV1dXWrRowZMnT9i2bZvU/cXX15cVK1YwcuRIbt++zYIFC/jnn38qTNeVycvLw9XVFXd3d/bt20dmZiZ79uyp8mwr5cnNza0w3ZSXVrZs2cKiRYsIDg5GQ0ODhw8fcvz48VrFpSG4ePEiHh4eTJ8+nTlz5pCZmcmZM2f47rvvpG1eRt4F8PDhQ65evcrdu3elLqeRkZGMHDlSGsxcFZXFqzqq++zt2bOHNWvW4O7uLi3bu3cvb775Jtu2bUNHR4f09HSF2aBKvm8qeo9U59xqmt9Wx71791BXV2ffvn2oqqqSkJDAokWLOHfuXLXje//+fdzc3KT31927d/nmm2/KnDmrLJU928W9qPyloVAyNTWtk86vpqam3Lx5sy6CEl6SF3nPNm7cSGBgoEJNekhICCtWrKhRBluXpk2bhoaGBhs2bKjXeAivngEDBjB8+HBcXV3rOypCIyXepYLw6qjt8/y/N7JReGE0NTVRUVGRmuROnz5d31GSaGhooKysjLW1NR9//HGFNSiCIAiCIAj1rd67uwivDjc3N4YMGcLVq1dxd3d/KTOUVJWdnR2LFi3i8ePHrFy5stxmWkEQBEEQhIZAdHf5HybumSAIQsMi8mVBeHWI7i6CIAiCIAiC8IoRhXRBEARBEARBaGBEIV0QBEEQBEEQGhhRSBcEQRAEQRCEBkYU0gVBEARBEAShgRGFdEEQBEEQBEFoYEQhXRAEQRAEQRAaGFFIFwRBEARBEIQGRvziqPBS6OrqsmrVKlxdXes87IULF5KamoqPj0+dhNeqVSs2bdrE+PHjSU1NLXOb9u3b06dPH7Zs2VInx2zMnTNRgQAAIABJREFU3n//fRwdHZk+fXp9R+WlU1dXx9DQEC0tLZSUlOotHgUFBWRlZZGSkkJOTk69xUMQylPdd0CrVq344IMP8PPzq1KeXFE4Nd1XEOqbqEkXXgoNDQ26dev2QsI+c+YMFy5cqLPwUlJSOHjwIBkZGQDY2tpiYGCgsE2rVq3o3LlznR2zoVBXV2fQoEHV2ichIYGjR4/W6HhlXdvGQl1dnRYtWqCtrV2vBXQAJSUltLW1adGiBerq6vUaF0EoS3XfAa+//jo9evQASufJ5enYsSMWFhYKy6q6b2WqkjcaGxvTs2fPWh1HEIqr10L66NGjiYuLkx7EIp9//jlxcXG0a9eunmImNCaHDx9GJpPVWXjp6emsX78euVwOwLx582jatGmdhd+QGRkZMX/+/Grtc/36dX7++ecaHa8xX1tDQ8N6L5yXpKSkhKGhYX1HQxDqVMk8uTyjR4/GxsamRvtWpip5Y8+ePRkxYkStjiMIxYmadEEQhBrQ0tIqtUxNTY1du3YxatQoaZmbmxt2dnb1Gi9BEASh8WkUhXRra2uCgoKQyWQcOnSIOXPmSOu8vb05cuQIMpmMHTt20L17d4V9R44cye7du6V9t2zZgrW1tULYmzdv5uTJk4SFheHo6PjSzqsxCgsLK1VTERoaioWFBSoqKgQHBxMdHc3Ro0eZO3cuKioqZYazcuVKPvroI4VlMpmMJk2aSH8PGzaMsLAwTpw4wfr16zExMSkzrAULFuDk5AQUFpI8PDw4fvw4R44cYdWqVWXuo6amhpubG4cPH+bo0aO4u7tL3QQMDAxK1cwHBgYSHR1NdHS0dE4dO3YkLCwMmUzGL7/8Qp8+fRT2sba2JjAwkJMnT7Jz506Fpl57e3t27NhBVFQUx48fL9WaBPDf//6Xo0ePcuLECby8vCqsIXVwcGDPnj3IZDJCQ0Np1aoVUFj78/333xMdHU14eDhjxoyR9jE3N8fPz49Dhw4hk8mYNm2adP5F5/rjjz8C0KFDB3777TdkMhnh4eEMHz5cCmfAgAGsW7cOKCwgent7ExERwalTpzh48CCTJ08uN94lr23z5s2JiYlBTU1NWt+xY0dCQkIAGDp0KLt27eLEiRNER0fj5eVFmzZtqnzdS7K0tGTz5s3ExMQQEhJCv379Kr0+RcqrRZfL5fTv37/ctP+iNbTafeHlGDNmDAcPHiQ6Oprg4GB0dXWBivO6ivJzqH4eVp13QEkmJiZ4e3sTHR3N3r17FfKqknmyjY0Nu3fv5sSJE+zdu1fhHNzc3KT8pGvXrqX2HTp0KMHBwcTExHDy5En8/f1p3bq1QlzKy0/LyhtL6tu3r7TNtGnT8PDwKJV3eHl5MXDgQLS0tNiwYQORkZHExsYSFhbGhAkTFJ7hiu5fVd93QuPVKAaOenp6kp+fj5+fH6qqqjx58kRad/nyZS5dugQUNnV98803vP/++8jlcsaOHcvcuXO5cOECoaGhtGnTho8//pg2bdpw8eJFWrduzYYNG7h9+zZbt26la9euuLu7c//+/TrtPvEqiYuLo2vXrpw/fx6Apk2boqury40bNygoKGDu3Lncu3eP1157jY0bN2Jvb8/BgwerfZwBAwbg5OSEq6srKSkpTJ06leXLl/Ppp59WuN/o0aMxNjbmww8/JDs7mzfeeKPM7b744guMjIxwdHREU1OT5cuXM2nSJPz8/Mrc3snJiYSEBIVlDx48YN68eSQnJ2NnZ8eqVatwcHAgLS2NFi1a8N1337Fs2TLOnj1Lv3798PT0xNHRkbS0NGxsbIiLi2PKlCloaGiQnZ1d6pj+/v54enqiqqrKokWLcHZ2ZuXKlaW269evHy4uLixZsoTLly9jYmLCgwcPUFFRwdvbm8jISBYuXIi5uTlr1qwhISGB+Ph42rRpg4qKCiNGjEAul6Ouro6uri6pqanY29srHOPWrVtMnjyZ5ORkLC0t8fHx4cyZM9y/f19hOw0NDbp3787w4cNJTU3FzMwMb29v/vrrL06dOlWla3v37l0sLS2lcQaWlpZcvHgRKCywx8TE4Ovri5qaGqNGjcLf35/Ro0eTmppa6XUvrnnz5nh7e+Pl5cWxY8ewtLRk5cqVpKamcv78+TKvT1Xk5+eTmJhIjx49iI2NVVinqanJpEmT6NSpEwUFBZw9e5YdO3aQl5fHwIED6dSpE3K5nJYtW6Kpqcm6deu4desWUNjfdfr06RgbGyOXywkJCSEuLq5KcRJebW+++SZOTk5MnjyZ+/fvY2ZmRnp6OlBxXldRfl6TPCwvL69G74CivCo2NpYVK1agrq7OxIkT0dfXL7WtsrIya9as4csvv+TMmTMYGxvz/Plzab2Xlxe7du2S/i455qVjx47Exsbi5+eHkpISn376KUuWLGHq1KlA+flps2bNyswbS4qKiuLLL7+U/h44cGCpLjCdOnVi5cqVaGhoYGNjI703zM3NWbZsGZqamgQEBFR6/6r6vhMarwZfk66srEzTpk1JSEggMDCQgIAAQkNDpfX+/v4EBAQQEBCAj48Penp6mJubAzB+/Hju3r3LzJkz2bFjBwcOHFAIe8yYMaioqODq6kpgYCBz5swhLS2NDz744KWeY2Mik8kUWit69erF6dOnKSgoAAoLWAUFBTx58oTIyEisrKxqdJzx48ezZs0abt26xbP/a+/Ow5o61j+AfwOBhCABXMCCelnUUncR96rUhcKt2la9rVWsu0Vlcel1KVqlaN2uCyBVwLqgVVTqUtEC1gWvel1QK7TUWkFQEUFkJ4GE5Pz+4OH8SMkGCRLw/TyPzyMnyZzJnJx35syZmVNaiu+++w49evTQOMnQ3NwcZWVlEIlEkMlkyMrKUvqesWPH4ptvvkFxcTFyc3MRFRWFUaNG1SuPhYWFyM3NhVQqxfnz55Geno7evXsDACZMmIC4uDhcv34dlZWViI+PR2ZmpkKPeWFhISorK1FSUqK0kf7ixQtUVVWhoqICsbGxKsvS29ubbTSLRCJkZGRAKpViwIABkEqlOHDgACQSCdLS0nDy5EmF71leXo7S0lJUVFTUacTWJhaL8erVKzAMg99++w2///473nnnHZXvf/nyJaRSKf7880/ExcVh0KBBGsuzxs2bNzFkyBD27x49eihMDC4uLkZlZSXKysqwb98+/PHHHxg/fjwA7cq9xsSJE5GUlIS4uDiUl5fj1q1b2LdvH6ZNm1bv8qmNy+UiMTER77//fp3XJk2aBIFAgICAAPz73/+Gi4sL23vPMAzc3Nxw6tQprFq1CsnJyQp3m/z8/JCWloaAgABs2bIF8+fPp/HnBAAgEAggkUjYDqyMjAwAmmOdunje0BjWkDpgwIABMDU1RUhICF6+fIns7GyVk9GNjIzA4/GQm5sLAMjLy9P63KxRVFQEsVgMkUiEiIgIdO/eHebm5gBUx9OGun37Nnr16sUOQ7O3t4dIJMLLly/Z9xQUFKCqqgoPHjxAUFAQpk6dChMTE43HT5v6jjRvBt+TLpfLceTIEXh7eyMmJgZHjhzBmTNnIJPJwOPxsGTJEgwePBi2trZskBAIBDA1NUX79u2RkJCgtAEEVC+jZ2Jigp9//llhe9u2bRv9ezVXN27cQFBQECwtLVFcXIwhQ4awwdTS0hL+/v7o2bMnO2zl2rVrDdpP586dsXbtWsjlcnabVCqFtbW12mW0YmNjERISgt27d+PAgQN1ejIBoFOnTjA1NcWPP/7IbuNwOAq9MQ2Rk5PDToLs3LkzevfujbFjx7Kvm5iYKAznUcfIyAizZs3CiBEj0LZtW0gkEvZC6O+6dOnC9jTX5uzsjM6dOyMhIUEhXWVlokmXLl0wf/58ODk5gcvlQiAQgMfjafXZnJyceq2EU3NLt2ZJzT59+mDXrl0q33/79m32gqE+5d61a9c6DYG7d+9i6tSpWudVGQ6Hg5SUFMyaNYu9TV6jf//+2LNnDxiGgUQiQVJSEvr164dffvkFQPVKOTV3JzIzM9G9e3cAgFAoRNeuXREcHAwAyM3NRWpqqsJnyZvr/v37uH//PmJiYnDw4EHExcVBKpVqjHXq4nlDYlhD64DOnTvj999/VxnjaquqqsK2bdsQFRWFEydOICYmRqelFcViMUpKSmBtbY3y8nKV8bShiouLkZKSgsGDB+PixYvo27cvkpOTVb4/LS0NxsbG7MpR6o6fNvUdad6atJFe03j++y2tmt7Smh9iSEgI7ty5g5kzZyIwMBDDhg3D0qVL4e3tjQkTJmD37t1ITk7G4MGD2VtWVVVVkMlkagOKkZERSktLERAQoLC9tLRUb9+xpRGLxbh58yaGDh2KX375Bf369cO6desAgJ0rMHv2bJSWlmLu3LmwtbVVmo5cLlc7VpHD4WD+/Pl49OhRvfJXUFCA6dOnY/To0fDz88O4ceMQGBioEPyNjIxQVlamtKdTGW0qDgCQyWQK32n37t3sWOr6Gjt2LNzd3bF8+XJkZ2fD1dUVX3/9tdL3cjgcpWVpZGSE69evY9myZVrvV9l35XA42LZtGw4ePIhly5aBYRh2DLo2ZDIZjIyU37RTtr/79+9DIBDAyckJ5eXlqKysZHvNlPn7GGxty70xx24zDIPz58/XWbKtpjFUo7S0FEKhkP1bJBKx/69dbjUxcfv27ezrPB4PmZmZjZF90szIZDKsWbMGvXr1wowZMzB58mT4+PhojHXq4jlQ/xhWnzqgNoZhFDpkNKmZZ/bZZ5/h+PHjWLp0KVJSUrSO1X8nlUrB5VY3h1TFU23SVvWe+Ph4eHh4sI10TY1pDocDDoej8fhpU9+R5q1Jh7vUVDC1Vz7g8/kYPHgwysvLFSrmq1evYvbs2Thz5gyGDRsGoVAIBwcHVFZW4vvvv8f9+/fx4MED9v1yuRx3797FwIED4enpiY4dO9aZQPbXX3/BwsICxsbGSE1NZf9RxafeuXPn4OHhgeHDh+P27dsQi8UAqntbz5w5w17k1F6X9u9Bo6CgAG+99ZbKfaSnp9eZBKwtuVyOxMRETJ8+Ha6urnWGZWRmZqJVq1Z11tNVRSKRaN1rXCM9PV2ndeG7dOmCK1euIDs7GwDY8aXKZGRkwMXFRWkeevXqpTAJU5PKykrw+XyFbRYWFrC1tcWPP/7IXvzWHHNdKStbhmEQHx+PsWPHYujQoSrHstfo3r07e3u/PuX+8OFDhUnkAODq6oqHDx/W4xuodvnyZQwePFjhYqCoqEihU0IoFGrVC1hYWAi5XA5/f38sXLgQCxcuxJw5cxSG/hGSkpKCJUuW4MmTJxg7dqxWsU5VPG9IDKtPHVDbw4cP0bt373pNtn7+/Dm2bt2KvXv3sp1zDYnVf6cqniqLjX8nkUiUvufixYtwc3ODlZUVBg4ciFu3bqlMw8nJCQzDIDs7W6vjp6m+I81bkzbSU1NTkZaWBg8PD0RFRWHFihWIiYnBW2+9hdjYWFRVVcHY2Bg7duzAF198AW9vb/Tq1QsVFRWQSCTIyMgAj8fD6tWr8dFHH9VZXWPz5s3Iy8tDcHAwTpw4UWeG9bFjxyCVShEaGooVK1bA19cXISEhsLGxeZ3F0OxcvXqVnagUFxfHbs/KysL777/Pjr2r3TgUi8UwNjaGvb09gOqxkOPGjcM777wDU1NTtGvXTmEfR48exaxZszB8+HCYm5ujbdu27FwDdZycnNCuXTtwOBw4ODiAx+PVGa9YXl6OuLg4rF27Fi4uLuDz+XB0dFR53NPT0+Hp6QkLCws4OztrtcTdyZMnMXjwYEydOhXW1tZo1apVvcbnZ2VlYdiwYWy5qKscYmJisHDhQri5ucHMzAwdO3aEtbU1bt68iZKSEqxZs4adiNinTx+VvdpAdWOwoqICHh4eMDc3h4uLC8rKylBYWIixY8fC2NgYRkZGbK+TrlSVbWxsLLy8vDBy5Mg6Q1L69++PLl26wMrKChMmTED//v1x5swZAPUr9xMnTsDd3R1eXl4QCARwc3PDzJkzcejQIb18t7KyMty9e1fhQuD27dsYM2YMOBwOeDwe3N3d1VbYNUpLS/Hnn3+y82XMzc0xf/58lb2UHA4HwcHBLfKBW6SuNm3awMnJiZ3D1a5dO5SUlGgV61TF84bEsPrUAbXduXMHBQUFWL16NWxtbcHn81U+P4HD4aBv374wMTGBmZkZ/vGPf7B3p9LT0+Hu7o42bdrAxsZGbUeQKqriqbLY+HePHj1Cz5490blzZwiFQjg5OQGojgUXLlzAl19+iaysLIU6ydjYGF5eXrCysoKTkxMCAwNx8uRJSKVSjcdPVX1nZ2eHTZs2NdsHxZH/16TDXeRyOQICAuDv7493330X3bt3R15eHnbt2oX9+/cDqO7FEwqFmDZtGoyNjZGZmYmvvvoKFRUVOHz4MOzs7DBw4EB4eXmhtLQUqampKCgoAFDdYzphwgR069YNXC4XZmZm2LFjB6qqqgBUXzEvWLAACxYswD//+U/I5XJkZWVpvFp+00mlUpw9exYjR45UaGCEhIQgMDAQcXFxMDIyQnFxMTvLXiwWY8+ePYiIiMC4ceNw8+ZNxMTEYPv27bCyskJxcTFu3brFPtL8559/hpmZGfz9/WFnZ4dXr14hOjpa4/CXQYMGYebMmTA3N0d2dja+++47PHv2rM77Nm3aBF9fX2zfvh1CoRDZ2dlYv3498vLy6rw3IiIC69atw6RJk/D06VOtho88e/YMfn5+8PX1hY+PDyoqKnD16lV2JSJNTp8+DRcXF0RHR7OTg+7cuaP0vTVlFRgYCFtbW+Tl5SEoKAj37t2Dn58fli5dioMHD8LY2Bjp6ekICAhQOaSLYRhs2LABS5YswapVq5CWloYFCxYgMDAQAQEBWLp0KTtBTVlZ1Zeyss3KykJeXh7bwP37+FATExOsW7cO9vb2SE9Px+LFi9m81Kfcc3JysGjRIva7ZmdnY+PGjSrLuSESEhIU7hTGxsZi1qxZCAkJAcMwuH79Oq5cuaJVWjt37sS8efPg6ekJY2NjXLx4UeUwIC6Xi549e+Lq1av6+BrEwHXq1Alr1qyBra0t8vPzce3aNXahBE2xTlU8b0gMq08dULtnXSaTYdGiRQgICMAPP/wAc3Nz5OfnK10VRigUYsmSJXB2dkZ5eTnS0tLYpQdrJqmfPn0aRUVF2LFjh9rx38qoi6fKYmPtYToZGRmIjY1FZGQk5HI5Tp8+jbCwMADAkSNHcOzYsTordDEMww7hZRgGZ8+eZT8DqD9+quo7FxcXdl6ALuP1SdPjODo66mXwkqOjIx4/fqyPpBrN559/Dj8/P8yfP7/eJ25L1ByOGXlzzZkzBzweD+Hh4ey2ZcuWITc3FwcOHGjCnFVzdHRs6iyoROd180VxuWXi8/k4ffo0Jk2axHaSWFlZ4dy5cwqrWZGWRdfz2eBXd9HFlClT0KtXL2RkZMDS0hITJkxAbm4u7t+/39RZI4QowePxIJVK0aNHD3z88ceYMWNGU2eJEEIazMzMDAzDYNmyZYiPj6eFKUi9tOhGemVlJVxcXDB8+HCUlJTgv//9L0JDQ3Va85QQ0njc3d2xatUq5OfnY/369QprCRNCSHOzf/9+tG/fHklJSeyysoRo640a7kIU0TEjpOEcHBwadRnHhmIYhlaoasYoLhPScuh6Phv8E0cJIcQQ6WsZSn0z1HwRQgipH2qkE0JIAxQWFhrcQ0MYhkFhYWFTZ4MQQogeUCOdEEIaQCKR4Pnz5xCJRE3eWGcYBiKRCM+fP2eXMSWEENK8teiJo4QQ0pgkEonKtcoJIYQQXVBPOiGEEEIIIQaGGumEEEIIIYQYGGqkE0IIIYQQYmCokU4IIYQQQoiB0evEUUdHR30mR14DOmaEEGJYKC4TQgA9N9LpKWnNCz3ZjhBCDAvFZUJaDl0vuGm4CyGEEEIIIQaGGumEEEIIIYQYGGqkE0IIIYQQYmCokU4IIYQQQoiBoUY6IYQQQgghBoYa6YQQQgghhBgYaqQTQgghhBBiYPS6TnpL5+PjA5FIhOjo6KbOSpMyNTWFtbU1zMzMwOFwmjo7bzyGYSAWi1FYWAiJRKJTWnRs3wz6/M0Qw0DnLjFEFGt0Qz3p9fDpp5+ie/fuTZ2NJmVqago7OzsIBAKqCAwEh8OBQCCAnZ0dTE1NG5wOHds3h75+M8Qw0LlLDBXFGt00aU/6qFGjsHHjxjrbs7KyMGnSpCbIEdHE2tqaKgEDxeFwYG1tjdzc3AZ9no7tm0fX3wwxDHTuEkNHsaZhDKInPSkpCXv37mX//fjjj02dJaKCmZmZ0u1jx45FZGQkDh06hMWLF0MgEGid5pAhQ/DRRx+pfN3FxQUHDx6sd14basSIEYiKisLhw4cxZsyYOq+7urri8OHDCA8PR0hIiNI0YmJi4OzsXK/9qiuH6dOnIzw8HHv37oW/v7/KNFQdH20o+6y9vT1iYmIUtvn7+2PixIn1Srsh5aHJxo0bsWfPHoSHh8PDw6PO66tXr8a4cePqne7mzZv1kT1Wnz59cOzYMXTr1o3dFhUVBRsbG73u5+/atWuH8PBwhIeH4+jRo2jfvr3S9+nymyGGQdkxHDNmDFavXq2wbffu3XBxcdE63caIvXw+H8eOHcN3332H8PBwODg41HlPQ+KFUCjEV199padcam/u3Lno2rXra9/vxx9/jMjISBw+fBh79uxBq1atAADz5s1DVFQUjh49Cnt7e73uU1VspFjTeAxiTPqFCxfw888/19nu4eGB9evXY/369Th16hTMzMwQGxuLjIwM+Pn5YejQoVixYgXatGkDkUiEixcv4j//+Q8kEglsbGwQGBgIZ2dntG7dGqWlpTh06BAcHR0xbNgwmJqa4tq1awgODoZYLIaNjQ2CgoLg7OwMoVCIgoICJCYmYteuXaisrFSabxMTE/j4+GD8+PHg8XhITk7Gpk2bWvSVorLeGldXV0yaNAkbN27EixcvEBAQgFmzZmHnzp1apdmhQwe1Y9WysrKwdu3ahma53pKSkpCUlIQlS5aofM/jx48RGBio8vXVq1fj2bNn9dqvunI4cOAADhw4gA8++EBt5aVLb1pj9sQ1pDy0sXPnTvz6669KX9u7dy9EIlG90uNyuSorGF1UVFTA09MTaWlpek9blZcvX2LhwoUAgP3796t8H/XANn+NdQwbM/YGBARAKpUqfa0h8aJTp076yFa9dezYUev3cjgcMAyj8z75fD4mT56MFStW4PHjxwqvRUZGIjIyEt9//73O+6lNXWykWNN4DKKRrkpiYiK8vLzg6+uLy5cvY8aMGRAKhewQmVevXuHChQsoKChA9+7d8fHHH+PZs2eIjo6GlZUVhgwZglu3biE2NhbDhg2Dv78/cnJycOLECTg4OGDMmDF4/PgxoqKiYGVlBTc3N9y8eRPJyclwcXHB1KlT0aFDB3z55ZdK87ds2TKMGzcOp06dQllZGT755BNs3rwZ06dPf53F1OTc3d1x+fJlPHjwAEB1L8iaNWsQGRmJtm3b4uuvv8b58+fRq1cvtGrVCjExMbh9+zYA4PPPP4eHhwfkcjk++OADAMDChQshkUjA5XKxa9cucDgc8Hg8TJs2TWG/ffr0wZQpU8Dj8VBWVoa9e/ciPT0dALBo0SJkZ2fD2dkZbdq0QVFREbZu3YqKigpwOBxMmzYNAwcOhJGREVJSUhAREQG5XK5zWaxcuRJOTk5sr05NfoDq4Hns2DEMHjwY7dq1Q3JyMjsJWV05GDJ15QyoLw9bW1vMmzcP7dq1Q1VVFU6fPo2kpCSt0lVnwoQJ8PLygkAgQExMDM6cOcO+Nnr0aHTr1g1SqRT29vbg8/kIDQ3FkydPYG1tjS1btoDP5yMqKgoAkJCQgNjYWJ3L6a+//kLXrl1hbW2NwsJChdf4fD5mzJiBbt26gWEY3LlzBz/88ANkMpna/AJAjx498Pnnn4PH46G4uBgRERHIzs7WOb+k5VMXjxor9mqiLl6oS3fQoEHw8fGBqakpe+6GhoYiNTVV53Lq27cv+10rKioQHR2N3377DQCwbt06dO7cGStWrIBMJsPjx4/x7bffAgC6dOmCOXPmYN++ffjiiy/Qpk0bnDlzBsePH9cpP1988QX69+8PDofD3jkoLi5W2U6pTV3MVVcvNmZsJOoZRCP9m2++wTfffMP+HRgYiMTERADVt7SPHz+O9evXo1+/fggLC2MroQcPHrANQw6Hg7i4OLi6uiqsvpKUlIRjx44hPj4eZ86cQUJCAnbt2gUjIyPEx8fD1dVVIS9XrlzBsWPHAADBwcHw9PSEk5MTMjIyFN7XunVrjBs3DkePHkV4eDgAoLS0FL6+vujQoUOj9Boaqo4dO+LevXvs35mZmexVt0QigbW1NV69eoU1a9awAe3evXuoqqpCdHQ0BAIBXrx4gVOnTimkW1VVhblz58LGxgZbt25VeE0oFGLRokUICgrC48ePMXDgQCxduhT+/v6oqqqCXC5H//79sXr1akgkEgQFBWHo0KG4cOEC+vbtCzc3NyxevBgAsGnTJgwaNAjXr1/XuSw2bNgAAOxvoja5XA5nZ2cEBwfD3Nwcu3btQmJiIl68eKG2HHTRs2dPhIaGKn3ts88+w4sXL3RKX105A+rLIyAgAFevXsW5c+dgY2ODTZs24dGjR8jOztaYrjonTpzAiRMn2J6d2hiGgZubG5YvX46cnBxMnjwZH330EUJDQ1FYWIjly5cjLCwMc+fO1alclElKSsLo0aPrVNKTJk2CQCBAQEAATExMsHbtWrz33nv45Zdf1ObXwsICS5cuxaZNm/DgwQMMGTIEixcv1qqyJkRdPGqs2KuJpvipKt0bN27AxMQEw4YNYxvJ+uLj44OgoCA8f/4cnTp1wujRo9lG+qpVqxAWFoawsDA8fPhQ4XM5OTno0KEDJk6ciA0bNiAvL08vPckRERGIjY1tUJzbL1kBAAALLUlEQVRSF3PV1YuNHRuJagYxJv3SpUvsLZrIyEiFq+fc3FxERERgwIAByMzMVBgfO3DgQOzbtw9XrlzB1atX0bp1a5Vjnl68eAGZTIbWrVsDqD7hs7OzYWlpqTJf//vf/wBA6XgzZ2dnGBsbY8qUKbh27RquXbsGX19fANXjs94kPB4PYrGY/buyshJyuZydyc3hcNgG8KNHjwAAdnZ2Ou2zZ8+eePLkCXur7+bNmzA1NVW49Xjr1i1UVlaCYRhkZmayY4Dv3buH5cuXQyKRQCKR4NGjR7C1tdUpP9q6cuUKAKC8vBx5eXmNPi45NTUV7733ntJ/ujbQa6gqZ3Wsra3h5OTEXozn5eUhNTUVffv21SldbaSnpyMnJwdA9QXl6zpfz58/j5EjR8LY2Fhhe//+/XH+/HkwDAOJRIKkpCT069dPY3579uyJ7OxstqPi+vXrsLKywltvvfVavg9p/hoSj3SJvbpqrHTVEYvFGD58ONq2bYsnT55g7969Wn2urKwMXC4XCQkJyMvLAwC9DHVpKE0xtynrRaKaQfSkX7p0SemY9Bq9e/cGwzCwt7eHnZ0dnj59Cj6fj82bN+PZs2dYuXIlRCIRgoKC1O5HLpfDyOj/r0tkMlmdCrO2moansqvfmnQOHTqEixcvKrxW0xB9U4jFYoWJonw+H0ZGRigpKYGRkRF70teoqKio18RSZaysrFBcXKywrbS0VOGiq/aFQ+1jb2FhAW9vb3Ts2BFyuRy2trZ6a7BqoipPhophmDq/fw6HozA0qCHfydLSEiKRCFVVVey2kpISrY6frmqPU5fJZK/tGOTn5yMzMxMDBgxQqKwtLS0VfsulpaUQCoUa8ysUCuHg4KDQ62hkZAQrKyu2UU/eXKrO3dq/vYacY7rEXl01RfzcsGEDO+eqsLAQ0dHRWg+jYRimzpjxpqIp5jZlvUhUM4hGujpjxozBe++9h9WrV8PPzw9ff/015s2bh7Zt20IgECAhIQHXrl0DUB0o9KlmKEzNSVa7dzg9PR0Mw6Br164qV/h4Uzx9+hSOjo7s3w4ODhCLxSgoKEDbtm1hYmICLpfLBgdzc3OUlZXptM/CwsI6d0EsLCxQVFSk8bOTJ0+GmZkZVq1aBZlMhkWLFumUF0PWq1cvlRN4P/nkE41BuLS0FBwOB2ZmZmwFKRQK61TS9VVUVASBQKDwuxAKhS2+cZmYmIgPP/xQ4aK1qKhI4bcsFAq1+h0XFRXh0aNHr3VSNWk+ysrK2BU/gOoLOAsLizpzIupLl9jbHOXm5iI8PBwcDgeurq5YsmQJ5s6dq9DYVUfV5NjXTVPMfZPqxebEILrxRo0ahfnz5yv8q3ly2uLFi3Hp0iXEx8cjJCQEffr0wfjx4/Hy5UuUl5dj0qRJ+OyzzzBhwgR2KIsuvL292fF2n376KVJSUvDnn38CqD5Z3dzc8OGHHyI/Px/x8fEYMGAAvv/+eyxYsAArV66Ej4+Pznlobi5fvozhw4eja9euEAqF+Ne//oVLly4pBDF3d3cA1ZNwqqqqFBqHYrGYnZnfqlUr8Pl8jfv87bff0KlTJ3b5riFDhkAkEuHp06caP9uqVStkZGRAJpPB3t4eb7/9ttJ9yuVy8Hg8jenpS0PKQZOUlBQMHz5c6T9teklKS0uRk5OD0aNHg8vl4u2338bbb7+NP/74Q6d81TQwa5a4tLW1Rc+ePZGcnKxTuroSi8UwNjZG+/btYWxsDGtra4XXZ8yYgV27doHLbVj/xq+//oo2bdooNJ5u376NMWPGsJP03N3dcevWLY1ppaamokOHDujSpQuA6iFkAQEBau8OkjfHo0ePYG9vDxcXF3C5XHh6eqKgoAD5+fk6patL7G1MFRUVsLOzA5fLhampKSwsLBReb8i5WzOBlc/ns0NsGIapcyexY8eO7Drg9end37JlS6M1hhmGgYmJCfu3ppirqV7UFBtJ4zCInvQRI0ZgxIgRCtsSExMxcuRItG7dmr2dm5iYiClTpsDHxwfx8fFYsWIFfHx8MH/+fDAMg4KCAqSkpOiUl+LiYnh6ekIgECApKQnffvste3tw27ZtWLlyJfr06YPTp08jODgY+fn5eP/99+Ht7Y2CggLExcXptP/m6Ndff8Xx48fx5ZdfQiAQIDk5WWHuQHl5OaytrbFjxw521YDaDfhLly5hyZIlOHToEEpKShAWFoY//vgDs2fPxqBBg8DhcBRm7ddMdtm+fTsWLlwIU1NTFBcXY+vWrZDJZBrze/bsWSxYsAD9+vXDs2fPcPDgQcyZMwcPHz5kV50BqhtB06dPx4cffojk5GRERESoTffdd99lV/apCe5yuRynTp3C2bNnNeZLVTk0tZ07d2L27Nn49NNPUVRUhL1792rV462pPEJDQ+Hj4wMvLy9IpVJERkbqvHypjY0N1q9fDwAQCAQYMGAAxo8fj7S0NGzfvl3j50UiEc6dO4dNmzZBLpfj/v372LFjB/t6jx49EBcXp3Uv2t8xDIPz58/D29ub3RYbG4tZs2YhJCQEDMPg+vXr7FhhdcrLy7Ft2zbMnTsX5ubmkEgkOHLkiFbnAGn58vPzERUVBV9fX1hZWeHZs2cIDQ3VahWrxoq96ugaP1NSUvDy5Uvs27cPlZWVOHXqlEJ93JBzt6SkBL///jsbD6RSKXbu3KlQhj/99BNmzJiB6dOnIz8/H4GBgQrDclSxsLBAp06dlE6S1Yfk5GQEBwejoqIChw8fxqVLl9TGXE31oqbYSBoHx9HRUS8zGRwdHQ1m7FVDdO3aFT/88AO2bNnCru7S0jXkmNUe1qKN9u3bY8OGDZg5c2a9PmfIXF1dMXHiRLXrpDeWmnXSVa3YAqDB52F9j21T27hxI2JiYlSuk65vQqGQbZxos5ycIdm/fz9WrFih8u5Jc47dLc3riMtNic/nIzo6GlOnTn1tQ0EM8dwdNGgQRo0axXYqtBQUaxTp2jY2iOEupGWjBxiQlqBbt25ITEw0mEqeEKIdQzx3u3fvjp9++qmps0EMnEEMdyGkuXF0dMTu3bshlUrh5+fX6PubOXMmBg4cCD6fj7t37zb6/poLX19fVFVV4eTJk0hISGjUfd24cQM3btxo1H3ok42NDfv8CXocNzE0YWFhAKrviGVmZjbqvgzx3NX3E0GbEsWaxkPDXd5gDTlmDg4O1DNuwGomNzUEHds3ky6/GaJ/FJdJS/Umxhoa7kJeK20mxJCmo8vxoWP7ZqLj3vzRMSTNAf1O648a6aReCgsLm/SpaUQ1hmF0WgOZju2bR9ffDDEMdO4SQ0expmGokU7qRSKR4Pnz5xCJRFQpGAiGYSASifD8+XOFh+TUFx3bN4e+fjPEMNC5SwwVxRrd6G3iaM0jiClAtHwSiUTn9ayJYaJjS0jzROcuIYZFH21ivfWkSySS1/p0RkIIIYQQQgwRj8fT+e6B3hrp5eXlEAqF+kqOEEIIIYSQZkkoFKK8vFynNPTWSC8uLgaXy4WlpaW+kiSEEEIIIaRZsbS0BJfLRXFxsU7p6PVhRnl5ebCxsQGPx0NJSQkqKytpjDohhBBCCGnROBwOeDwehEIhuFwu8vLydE9TXw8zqs3S0hLm5uYwNTWlBywQQgghhJAWjWEYSCQSlJeX69yDXkOvPek1iouL9ZZBQgghhBBC3jS0TjohhBBCCCEGhhrphBBCCCGEGBhqpBNCCCGEEGJgqJFOCCGEEEKIgaFGOiGEEEIIIQaGGumEEEIIIYQYGGqkE0IIIYQQYmCokU4IIYQQQoiBoUY6IYQQQgghBoYa6YQQQgghhBgYaqQTQgghhBBiYP4PnjuwjK5UBngAAAAASUVORK5CYII=)"
      ],
      "metadata": {
        "id": "WOwbsCPFg8Jw"
      }
    },
    {
      "cell_type": "markdown",
      "source": [
        "# Examples to Illustrate the Difference\n",
        "\n",
        "Example of Optional:\n"
      ],
      "metadata": {
        "id": "3g0mtBv0hIbf"
      }
    },
    {
      "cell_type": "code",
      "source": [
        "from typing import Optional\n",
        "\n",
        "def read_file(filename: str) -> Optional[str]:\n",
        "    try:\n",
        "        with open(filename, 'r') as f:\n",
        "            return f.read()\n",
        "    except FileNotFoundError:\n",
        "        return None\n"
      ],
      "metadata": {
        "id": "lpE03Hk7hP1T"
      },
      "execution_count": null,
      "outputs": []
    },
    {
      "cell_type": "markdown",
      "source": [
        "* Here, Optional[str] indicates that the function will return either a str (if the file is successfully read) or None (if the file is not found).\n",
        "Example of Union:\n"
      ],
      "metadata": {
        "id": "k5_ev1lihSxn"
      }
    },
    {
      "cell_type": "code",
      "source": [
        "from typing import Union\n",
        "\n",
        "def read_value(value: Union[int, str]) -> str:\n",
        "    if isinstance(value, int):\n",
        "        return str(value)\n",
        "    return value\n"
      ],
      "metadata": {
        "id": "6mktkrdqhVxW"
      },
      "execution_count": null,
      "outputs": []
    },
    {
      "cell_type": "markdown",
      "source": [
        "* In this case, the argument value can be either an int or a str. The function converts the int to a str if necessary, but handles both types.\n",
        "When to Use Which?\n",
        "* Use Optional[X] when the type of a variable or return value is either X or None. It's a clear way to signal that None is a possible value, commonly used for default parameter values or functions that might return no result.\n",
        "\n",
        "* Use Union[X, Y, Z] when the type can be any of multiple distinct types. This is useful when a value can be of different types that require different handling.\n",
        "\n",
        "# Conclusion\n",
        "* Optional is essentially a convenient shorthand for Union when one of the possible types is None.\n",
        "* Union provides more flexibility by allowing any combination of types.\n",
        "\n",
        "They both enhance the clarity and robustness of code, especially in large and complex systems."
      ],
      "metadata": {
        "id": "CLjuyGcZhWQg"
      }
    },
    {
      "cell_type": "markdown",
      "source": [
        "# **Write a Python class with type hints for representing a basic 2D point.**\n",
        "\n",
        "Here's a Python class with type hints to represent a basic 2D point:"
      ],
      "metadata": {
        "id": "x57epzXukou_"
      }
    },
    {
      "cell_type": "code",
      "source": [
        "class Point2D:\n",
        "    def __init__(self, x: float, y: float) -> None:\n",
        "        \"\"\"\n",
        "        Initialize a 2D point.\n",
        "\n",
        "        :param x: The x-coordinate of the point (float).\n",
        "        :param y: The y-coordinate of the point (float).\n",
        "        \"\"\"\n",
        "        self.x: float = x\n",
        "        self.y: float = y\n",
        "\n",
        "    def distance_to_origin(self) -> float:\n",
        "        \"\"\"\n",
        "        Calculate the distance from the point to the origin (0, 0).\n",
        "\n",
        "        :return: The distance to the origin (float).\n",
        "        \"\"\"\n",
        "        return (self.x ** 2 + self.y ** 2) ** 0.5\n",
        "\n",
        "    def move(self, dx: float, dy: float) -> None:\n",
        "        \"\"\"\n",
        "        Move the point by a given amount.\n",
        "\n",
        "        :param dx: The amount to move the point along the x-axis (float).\n",
        "        :param dy: The amount to move the point along the y-axis (float).\n",
        "        \"\"\"\n",
        "        self.x += dx\n",
        "        self.y += dy\n",
        "\n",
        "    def __repr__(self) -> str:\n",
        "        \"\"\"\n",
        "        Return a string representation of the 2D point.\n",
        "\n",
        "        :return: A string in the format 'Point2D(x, y)'.\n",
        "        \"\"\"\n",
        "        return f\"Point2D({self.x}, {self.y})\"\n"
      ],
      "metadata": {
        "id": "G1wLg12ckuF-"
      },
      "execution_count": null,
      "outputs": []
    },
    {
      "cell_type": "markdown",
      "source": [
        "**Explanation:**\n",
        "\n",
        "* The Point2D class has two attributes, x and y, both typed as float to represent the coordinates of the point.\n",
        "* __init__(self, x: float, y: float) -> None: Initializes the Point2D object with x and y coordinates.\n",
        "* distance_to_origin(self) -> float: This method calculates and returns the Euclidean distance of the point from the origin (0, 0).\n",
        "* move(self, dx: float, dy: float) -> None: This method allows you to move the point by adjusting its x and y coordinates by dx and dy, respectively.\n",
        "* __repr__(self) -> str: A method to provide a string representation of the Point2D object, useful for debugging or printing."
      ],
      "metadata": {
        "id": "movJD4MDkv5m"
      }
    },
    {
      "cell_type": "markdown",
      "source": [
        "**Example Usage:**"
      ],
      "metadata": {
        "id": "ihM8I7OSk7s5"
      }
    },
    {
      "cell_type": "code",
      "source": [
        "point = Point2D(3.0, 4.0)\n",
        "print(point)  # Output: Point2D(3.0, 4.0)\n",
        "\n",
        "distance = point.distance_to_origin()\n",
        "print(f\"Distance to origin: {distance}\")  # Output: Distance to origin: 5.0\n",
        "\n",
        "point.move(1.0, -2.0)\n",
        "print(point)  # Output: Point2D(4.0, 2.0)\n"
      ],
      "metadata": {
        "id": "B5p9cQQelALW"
      },
      "execution_count": null,
      "outputs": []
    },
    {
      "cell_type": "markdown",
      "source": [
        "This class provides a basic representation of a 2D point, with methods for calculating the distance to the origin, moving the point, and printing the point's state."
      ],
      "metadata": {
        "id": "A0oPGNJrlAqH"
      }
    },
    {
      "cell_type": "markdown",
      "source": [
        "# How can you use type hints with Python's variable-length argument (*args) and keyword argument (**kwargs)? **bold text**\n",
        "\n",
        "In Python, you can use type hints with variable-length arguments (*args) and keyword arguments (**kwargs) by leveraging the typing module. The module provides specific types like Tuple for *args and Dict for **kwargs to make the types of these arguments explicit. Here’s how you can type-hint both of these cases:\n",
        "\n",
        "\n",
        "In Python, you can use type hints with variable-length arguments (*args) and keyword arguments (**kwargs) by leveraging the typing module. The module provides specific types like Tuple for *args and Dict for **kwargs to make the types of these arguments explicit. Here’s how you can type-hint both of these cases:\n",
        "\n",
        "1. **Type Hinting for *args**\n",
        "\n",
        "\n",
        "*args allows you to pass a variable number of positional arguments. You can hint the type of the elements in *args using Tuple from the typing module, specifying the type of the elements.\n",
        "\n",
        "Example:"
      ],
      "metadata": {
        "id": "w62J1s0AlDbd"
      }
    },
    {
      "cell_type": "code",
      "source": [
        "from typing import Tuple\n",
        "\n",
        "def sum_all(*args: Tuple[int, ...]) -> int:\n",
        "    \"\"\"\n",
        "    Takes a variable number of integers and returns their sum.\n",
        "\n",
        "    :param args: A tuple of integers (can be of any length).\n",
        "    :return: The sum of the integers.\n",
        "    \"\"\"\n",
        "    return sum(args)\n"
      ],
      "metadata": {
        "id": "BhB0Lm8Xlvul"
      },
      "execution_count": null,
      "outputs": []
    },
    {
      "cell_type": "markdown",
      "source": [
        "* Tuple[int, ...]: This indicates that *args is a tuple containing elements of type int. The ... (ellipsis) means the tuple can be of arbitrary length.\n",
        "* The function accepts any number of integers as positional arguments and returns their sum.\n",
        "2. **Type Hinting for **kwargs**\n",
        "**kwargs allows you to pass a variable number of keyword arguments. You can hint the type of the values in **kwargs using Dict from the typing module, where the keys are typically of type str and the values can be of any specified type.\n",
        "\n",
        "Example:"
      ],
      "metadata": {
        "id": "pLXxt4jZlyRC"
      }
    },
    {
      "cell_type": "code",
      "source": [
        "from typing import Dict\n",
        "\n",
        "def process_data(**kwargs: Dict[str, float]) -> None:\n",
        "    \"\"\"\n",
        "    Processes keyword arguments where keys are strings and values are floats.\n",
        "\n",
        "    :param kwargs: A dictionary with string keys and float values.\n",
        "    \"\"\"\n",
        "    for key, value in kwargs.items():\n",
        "        print(f\"{key}: {value}\")\n"
      ],
      "metadata": {
        "id": "XLUC361dl-CV"
      },
      "execution_count": null,
      "outputs": []
    },
    {
      "cell_type": "markdown",
      "source": [
        "* Dict[str, float]: This indicates that **kwargs is a dictionary where the keys are strings (str) and the values are floats (float). The function expects keyword arguments that match these types.\n",
        "\n",
        "**Combining Both** * args and **kwargs with Type Hints\n",
        "You can combine both *args and **kwargs in a single function and provide type hints for both:\n",
        "\n",
        "Example:"
      ],
      "metadata": {
        "id": "zok2ypCYmAsE"
      }
    },
    {
      "cell_type": "code",
      "source": [
        "from typing import Tuple, Dict\n",
        "\n",
        "def mixed_function(*args: Tuple[int, ...], **kwargs: Dict[str, str]) -> None:\n",
        "    \"\"\"\n",
        "    Accepts a variable number of integer positional arguments and string keyword arguments.\n",
        "\n",
        "    :param args: A tuple of integers.\n",
        "    :param kwargs: A dictionary of string keys and string values.\n",
        "    \"\"\"\n",
        "    print(\"Positional arguments (ints):\", args)\n",
        "    print(\"Keyword arguments (strs):\", kwargs)\n"
      ],
      "metadata": {
        "id": "Uo9JO3y0mkQU"
      },
      "execution_count": null,
      "outputs": []
    },
    {
      "cell_type": "markdown",
      "source": [
        "* *args: Tuple[int, ...]: This indicates that the function accepts a variable number of integers as positional arguments.\n",
        "* **kwargs: Dict[str, str]: This indicates that the function accepts keyword arguments, where both the keys and values are strings.\n",
        "\n",
        "**Example Usage:**"
      ],
      "metadata": {
        "id": "VD0q-6GxmlGM"
      }
    },
    {
      "cell_type": "code",
      "source": [
        "# Using the `sum_all` function\n",
        "print(sum_all(1, 2, 3))  # Output: 6\n",
        "\n",
        "# Using the `process_data` function\n",
        "process_data(a=1.5, b=2.75)\n",
        "# Output:\n",
        "# a: 1.5\n",
        "# b: 2.75\n",
        "\n",
        "# Using the `mixed_function` function\n",
        "mixed_function(1, 2, 3, name=\"Alice\", city=\"Wonderland\")\n",
        "# Output:\n",
        "# Positional arguments (ints): (1, 2, 3)\n",
        "# Keyword arguments (strs): {'name': 'Alice', 'city': 'Wonderland'}\n"
      ],
      "metadata": {
        "id": "6MsUsO0CmvrU"
      },
      "execution_count": null,
      "outputs": []
    },
    {
      "cell_type": "markdown",
      "source": [
        "**Summary:**\n",
        "\n",
        "* For *args, you typically use Tuple[Type, ...] to represent the types of the positional arguments.\n",
        "* For **kwargs, you use Dict[KeyType, ValueType] to represent the types of the keyword arguments.\n",
        "* The ellipsis (...) in Tuple indicates that the tuple can be of arbitrary length."
      ],
      "metadata": {
        "id": "0S3K_yjemwWM"
      }
    },
    {
      "cell_type": "markdown",
      "source": [
        "# **Discuss the use of type aliases in Python for type hinting.**\n",
        "\n",
        "In Python, type aliases provide a way to create more readable and reusable type hints, especially when dealing with complex types or when you need to standardize type definitions across a codebase. They allow you to define a meaningful name for an existing type or combination of types, improving the clarity and maintainability of your code.\n",
        "\n",
        "**How Type Aliases Work**\n",
        "\n",
        "A type alias is simply assigning an existing type (or a combination of types) to a new name. This new name can then be used in type hints throughout your code. Type aliases are especially useful in large codebases where the same complex type might be used in many places.\n",
        "\n",
        "**Syntax:**\n"
      ],
      "metadata": {
        "id": "4sSKVUzBm7jg"
      }
    },
    {
      "cell_type": "code",
      "source": [
        "TypeAliasName = ExistingType\n"
      ],
      "metadata": {
        "id": "O_uo29IznFT7"
      },
      "execution_count": null,
      "outputs": []
    },
    {
      "cell_type": "markdown",
      "source": [
        "**Use Cases for Type Aliases**\n",
        "\n",
        "1. Simplifying Complex Types When working with complex nested types, such as dictionaries of lists or tuples, type aliases can make your type hints more readable and reduce redundancy.\n",
        "\n",
        "2. Enhancing Code Readability By giving a meaningful name to a type, you can make the intent of your code more clear. Instead of repeatedly using the same complex type in type hints, a type alias can act as documentation.\n",
        "\n",
        "3. Flexibility for Future Changes If you need to change a commonly used type, you only need to update the type alias definition rather than changing every instance in your code.\n",
        "\n",
        "**Examples of Using Type Aliases**\n",
        "\n",
        "**1. Simplifying Complex Types**\n",
        "\n",
        "Suppose you have a dictionary where the keys are strings, and the values are lists of floats. Typing this out repeatedly would be cumbersome, so you can create a type alias for it."
      ],
      "metadata": {
        "id": "naa3zN_QnFxz"
      }
    },
    {
      "cell_type": "code",
      "source": [
        "from typing import Dict, List\n",
        "\n",
        "# Type alias for a complex type\n",
        "ScoreMap = Dict[str, List[float]]\n",
        "\n",
        "def calculate_average(scores: ScoreMap) -> Dict[str, float]:\n",
        "    \"\"\"\n",
        "    Calculate the average score for each student.\n",
        "\n",
        "    :param scores: A dictionary where keys are student names (str)\n",
        "                   and values are lists of scores (List[float]).\n",
        "    :return: A dictionary with student names and their average scores.\n",
        "    \"\"\"\n",
        "    return {student: sum(marks) / len(marks) for student, marks in scores.items()}\n"
      ],
      "metadata": {
        "id": "WHAxm_JinTNM"
      },
      "execution_count": null,
      "outputs": []
    },
    {
      "cell_type": "markdown",
      "source": [
        "In this example, the ScoreMap type alias improves readability and avoids repetition.\n",
        "\n",
        "**2. Enhancing Readability with Meaningful Names**\n",
        "\n",
        "Sometimes, even simple types can benefit from type aliases when the alias gives a clearer indication of the data’s meaning."
      ],
      "metadata": {
        "id": "Lf2Zlb27nT21"
      }
    },
    {
      "cell_type": "code",
      "source": [
        "# Type alias for a meaningful type\n",
        "UserID = int\n",
        "\n",
        "def get_user_name(user_id: UserID) -> str:\n",
        "    \"\"\"\n",
        "    Fetch the user's name using their UserID.\n",
        "\n",
        "    :param user_id: An integer representing the user ID.\n",
        "    :return: The user's name (str).\n",
        "    \"\"\"\n",
        "    # Example logic to fetch user name\n",
        "    return \"User_\" + str(user_id)\n"
      ],
      "metadata": {
        "id": "KN7656Wdnbht"
      },
      "execution_count": null,
      "outputs": []
    },
    {
      "cell_type": "markdown",
      "source": [
        "Here, UserID is just an alias for int, but using UserID makes the function signature more informative by indicating the role of the integer as a user ID.\n",
        "\n",
        "3. **Flexibility for Future Changes**\n",
        "\n",
        "Imagine you initially define UserID as an int, but later decide that it should be a str (perhaps due to changes in your database). With a type alias, you only need to update the alias definition."
      ],
      "metadata": {
        "id": "F_DdLMVTndl2"
      }
    },
    {
      "cell_type": "code",
      "source": [
        "# Change the type alias if the data type changes\n",
        "UserID = str\n"
      ],
      "metadata": {
        "id": "K5VciRuGn2WD"
      },
      "execution_count": null,
      "outputs": []
    },
    {
      "cell_type": "markdown",
      "source": [
        "After this change, all the type hints that use UserID will now reflect the updated type.\n",
        "\n",
        "**Type Aliases for Union Types**\n",
        "\n",
        "Type aliases are particularly helpful when working with union types, as they allow you to give a more readable name to a combination of types.\n",
        "\n",
        "Example with Union:"
      ],
      "metadata": {
        "id": "QmYdZGPWn4Jd"
      }
    },
    {
      "cell_type": "code",
      "source": [
        "from typing import Union\n",
        "\n",
        "# Type alias for a union of multiple types\n",
        "Data = Union[int, float, str]\n",
        "\n",
        "def process_data(data: Data) -> None:\n",
        "    \"\"\"\n",
        "    Processes data that can be an int, float, or string.\n",
        "\n",
        "    :param data: An integer, float, or string.\n",
        "    \"\"\"\n",
        "    print(f\"Processing: {data}\")\n"
      ],
      "metadata": {
        "id": "GoigHnfRoETa"
      },
      "execution_count": null,
      "outputs": []
    },
    {
      "cell_type": "markdown",
      "source": [
        "Instead of repeating Union[int, float, str] in multiple places, you can use the Data alias to make the type hinting cleaner.\n",
        "\n",
        "**Practical Considerations**\n",
        "\n",
        "* Scope of Type Aliases: Type aliases are most effective when they are used consistently across a codebase. They should be defined in modules where they are needed or in a dedicated types.py module, which can be imported wherever necessary.\n",
        "\n",
        "* Not Enforced by Python: It's important to note that Python does not enforce type aliases at runtime. They are purely for type hinting and static analysis tools, such as mypy, to check for type correctness.\n",
        "\n",
        "**Example: Defining a Custom Data Type Alias**\n",
        "\n",
        "Let's say you are working on a system that deals with financial transactions. You could create meaningful type aliases for transaction-related data:"
      ],
      "metadata": {
        "id": "LSdkks1EoFBa"
      }
    },
    {
      "cell_type": "code",
      "source": [
        "from typing import Dict, List\n",
        "\n",
        "# Defining type aliases for financial data\n",
        "AccountID = str\n",
        "TransactionID = str\n",
        "TransactionData = Dict[TransactionID, float]  # Transactions mapped by ID to amounts\n",
        "\n",
        "def process_transactions(account: AccountID, transactions: TransactionData) -> float:\n",
        "    \"\"\"\n",
        "    Process a set of transactions for a given account.\n",
        "\n",
        "    :param account: The ID of the account (str).\n",
        "    :param transactions: A dictionary of transaction IDs (str) mapped to amounts (float).\n",
        "    :return: The total amount of all transactions.\n",
        "    \"\"\"\n",
        "    return sum(transactions.values())\n"
      ],
      "metadata": {
        "id": "NZN5b-wwoV1x"
      },
      "execution_count": null,
      "outputs": []
    },
    {
      "cell_type": "markdown",
      "source": [
        "In this case:\n",
        "\n",
        "**AccountID** represents a bank account's ID (a string).\n",
        "\n",
        "**TransactionID** represents the ID of a transaction (also a string).\n",
        "\n",
        "**TransactionData** is a dictionary that maps transaction IDs to their respective amounts.\n",
        "\n",
        "Using these type aliases makes the function's intent clearer and easier to understand.\n",
        "\n",
        "**Conclusion**\n",
        "\n",
        "Type aliases in Python offer a way to make complex types more readable, reusable, and maintainable, especially in large codebases. They:\n",
        "\n",
        "* Simplify complex type annotations.\n",
        "* Improve code readability by using meaningful names.\n",
        "* Make it easy to modify types across a codebase.\n",
        "\n",
        "By using type aliases effectively, you can ensure that your Python code remains clear, concise, and easy to work with."
      ],
      "metadata": {
        "id": "vo-jxFGwoWb2"
      }
    },
    {
      "cell_type": "markdown",
      "source": [
        "# **What are some common tools used for static type checking in Python?**\n",
        "\n",
        "Static type checking in Python involves analyzing the code without executing it to catch type errors and enforce type hints. Several tools are available to help developers perform static type checking effectively. Here are some of the most common tools:\n",
        "\n",
        "**1. MyPy**\n",
        "\n",
        "* Description: MyPy is the most widely used static type checker for Python. It checks type annotations and ensures that the code adheres to the specified types.\n",
        "* Features:\n",
        "    * Supports gradual typing, allowing you to add type hints to existing code incrementally.\n",
        "\n",
        "    * Can check for type inconsistencies, function signatures, and more.\n",
        "    * Integrates well with various IDEs and editors.\n",
        "\n",
        "**Usage:**"
      ],
      "metadata": {
        "id": "UirPLJ2mpBYv"
      }
    },
    {
      "cell_type": "code",
      "source": [
        "mypy your_script.py\n"
      ],
      "metadata": {
        "id": "OMHGpNtrpdqZ"
      },
      "execution_count": null,
      "outputs": []
    },
    {
      "cell_type": "markdown",
      "source": [
        "2. Pyright\n",
        "\n",
        "* Description: Developed by Microsoft, Pyright is a fast type checker that can be used as a standalone tool or integrated into Visual Studio Code.\n",
        "\n",
        "* Features:\n",
        "\n",
        "    * Provides quick feedback with a focus on performance.\n",
        "    * Offers type inference and can understand complex types.\n",
        "    * Supports type checking for JavaScript files as well.\n",
        "\n",
        "Usage:"
      ],
      "metadata": {
        "id": "plpbGeazqLYr"
      }
    },
    {
      "cell_type": "code",
      "source": [
        "pyright your_script.py\n"
      ],
      "metadata": {
        "id": "h-aX1MCoqXTM"
      },
      "execution_count": null,
      "outputs": []
    },
    {
      "cell_type": "markdown",
      "source": [
        "**3. Pylint**\n",
        "\n",
        "* Description: Pylint is a comprehensive static code analysis tool that checks for errors in Python code, enforces a coding standard, and looks for code smells. It also performs type checking based on annotations.\n",
        "\n",
        "* Features:\n",
        "     * Identifies potential bugs, code style issues, and design flaws.\n",
        "     * Can check type hints and report mismatches.\n",
        "     * Highly customizable through configuration files.\n",
        "\n",
        "**Usage:**"
      ],
      "metadata": {
        "id": "Tiqz29uCqZ6a"
      }
    },
    {
      "cell_type": "code",
      "source": [
        "pylint your_script.py\n"
      ],
      "metadata": {
        "id": "mcXAfCvtq4MV"
      },
      "execution_count": null,
      "outputs": []
    },
    {
      "cell_type": "markdown",
      "source": [
        "**4. Pyflakes**\n",
        "\n",
        "* Description: Pyflakes is a simple static analysis tool that checks Python code for errors. It focuses mainly on detecting potential errors without enforcing style.\n",
        "\n",
        "* Features:\n",
        "\n",
        "     * Lightweight and fast; designed for checking code quickly.\n",
        "     * Does not check code style or enforce PEP 8 compliance.\n",
        "\n",
        "**Usage:**"
      ],
      "metadata": {
        "id": "iePNXrsNq5fH"
      }
    },
    {
      "cell_type": "code",
      "source": [
        "pyflakes your_script.py\n"
      ],
      "metadata": {
        "id": "8w4Bdy_prSWl"
      },
      "execution_count": null,
      "outputs": []
    },
    {
      "cell_type": "markdown",
      "source": [
        "**5. Bandit**\n",
        "\n",
        "* Description: Bandit is a security-oriented static analysis tool that focuses on identifying vulnerabilities in Python code. While it primarily targets security issues, it can also help identify some type-related concerns.\n",
        "* Features:\n",
        "    * Scans for common security issues and weaknesses.\n",
        "    * Customizable with plugins and configurations.\n",
        "\n",
        "**Usage:**"
      ],
      "metadata": {
        "id": "-eveBZ4YrTEl"
      }
    },
    {
      "cell_type": "code",
      "source": [
        "bandit -r your_script.py\n"
      ],
      "metadata": {
        "id": "GHOE6Y0ermdl"
      },
      "execution_count": null,
      "outputs": []
    },
    {
      "cell_type": "markdown",
      "source": [
        "**6. TypeGuard**\n",
        "* Description: TypeGuard allows you to enforce type checks at runtime. It can be helpful in combination with static type checkers to ensure that types are adhered to during execution.\n",
        "* Features:\n",
        "     * Provides decorators to enforce type checks dynamically.\n",
        "     * Useful for testing and debugging type-related issues.\n",
        "\n",
        "**Usage:**"
      ],
      "metadata": {
        "id": "fF43aGDBrpdw"
      }
    },
    {
      "cell_type": "code",
      "source": [
        "from typing_guard import typeguard\n",
        "\n",
        "@typeguard\n",
        "def func(x: int) -> None:\n",
        "    ...\n"
      ],
      "metadata": {
        "id": "nbaA81L2r6SV"
      },
      "execution_count": null,
      "outputs": []
    },
    {
      "cell_type": "markdown",
      "source": [
        "**7. Pyre**\n",
        "\n",
        "* Description: Pyre is a type checker developed by Facebook, designed for fast type checking of Python codebases.\n",
        "* Features:\n",
        "\n",
        "    * Focuses on performance and incremental checking.\n",
        "    * Supports type inference and a robust type system.\n",
        "    * Can integrate with other tools and CI/CD pipelines.\n",
        "**Usage:**"
      ],
      "metadata": {
        "id": "sx6EvkJpr79B"
      }
    },
    {
      "cell_type": "code",
      "source": [
        "pyre check\n"
      ],
      "metadata": {
        "id": "WS7dxXYJsPPy"
      },
      "execution_count": null,
      "outputs": []
    },
    {
      "cell_type": "markdown",
      "source": [
        "**8. Pytype**\n",
        "\n",
        "* Description: Developed by Google, Pytype is a static type analyzer that infers types in Python code and checks for errors.\n",
        "* Features:\n",
        "     * Can infer types for unannotated code and report type errors.\n",
        "     * Integrates with tools like bazel for building and testing.\n",
        "     \n",
        "**Usage:**"
      ],
      "metadata": {
        "id": "S4StrYi4sQ1X"
      }
    },
    {
      "cell_type": "code",
      "source": [
        "pytype your_script.py\n"
      ],
      "metadata": {
        "id": "nAMCUdAzsiuu"
      },
      "execution_count": null,
      "outputs": []
    },
    {
      "cell_type": "markdown",
      "source": [
        "**Conclusion**\n",
        "\n",
        "These tools can help improve the quality of your Python code by catching type errors and enforcing type hints. Depending on your needs, you might choose one tool or a combination of them to ensure your code is type-safe and maintainable. MyPy and Pyright are particularly popular for straightforward type checking, while Pylint and Bandit offer broader static analysis capabilities."
      ],
      "metadata": {
        "id": "MCv3qIoVskqH"
      }
    }
  ]
}